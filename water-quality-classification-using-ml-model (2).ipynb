{
 "cells": [
  {
   "cell_type": "markdown",
   "id": "2847f181",
   "metadata": {
    "id": "2847f181",
    "papermill": {
     "duration": 0.011809,
     "end_time": "2023-06-14T08:53:44.220227",
     "exception": false,
     "start_time": "2023-06-14T08:53:44.208418",
     "status": "completed"
    },
    "tags": []
   },
   "source": [
    "## Libraries"
   ]
  },
  {
   "cell_type": "code",
   "execution_count": 1,
   "id": "237e77c1",
   "metadata": {
    "execution": {
     "iopub.execute_input": "2023-06-14T08:53:44.248308Z",
     "iopub.status.busy": "2023-06-14T08:53:44.247684Z",
     "iopub.status.idle": "2023-06-14T08:53:47.986752Z",
     "shell.execute_reply": "2023-06-14T08:53:47.985701Z"
    },
    "executionInfo": {
     "elapsed": 2438,
     "status": "ok",
     "timestamp": 1698404040398,
     "user": {
      "displayName": "Priyanka Israni",
      "userId": "07224247261387411096"
     },
     "user_tz": -330
    },
    "id": "237e77c1",
    "papermill": {
     "duration": 3.756233,
     "end_time": "2023-06-14T08:53:47.989714",
     "exception": false,
     "start_time": "2023-06-14T08:53:44.233481",
     "status": "completed"
    },
    "tags": []
   },
   "outputs": [],
   "source": [
    "import matplotlib.pyplot as plt\n",
    "plt.style.use('fivethirtyeight')\n",
    "plt.style.use('dark_background')\n",
    "import plotly.express as px\n",
    "import plotly.figure_factory as ff\n",
    "import numpy as np\n",
    "import pandas as pd\n",
    "import seaborn as sns\n",
    "import warnings\n",
    "warnings.simplefilter(action='ignore', category=Warning)\n",
    "from tqdm import tqdm_notebook\n",
    "from scipy.stats import norm, boxcox\n",
    "\n",
    "from sklearn.metrics import confusion_matrix\n",
    "from sklearn.model_selection import train_test_split\n",
    "from sklearn.preprocessing import StandardScaler\n",
    "\n",
    "\n",
    "from sklearn.linear_model import LogisticRegression\n",
    "from sklearn.neighbors import KNeighborsClassifier\n",
    "from sklearn.svm import SVC\n",
    "from sklearn.tree import DecisionTreeClassifier\n",
    "from sklearn.ensemble import RandomForestClassifier, AdaBoostClassifier\n",
    "from sklearn.naive_bayes import GaussianNB\n",
    "from xgboost import XGBClassifier\n",
    "from sklearn.ensemble import GradientBoostingClassifier\n",
    "\n",
    "\n",
    "import warnings\n",
    "warnings.filterwarnings('ignore')"
   ]
  },
  {
   "cell_type": "code",
   "execution_count": null,
   "id": "EtYadAVuUwLr",
   "metadata": {
    "id": "EtYadAVuUwLr"
   },
   "outputs": [],
   "source": []
  },
  {
   "cell_type": "code",
   "execution_count": 2,
   "id": "erPloPy_1GBK",
   "metadata": {
    "colab": {
     "base_uri": "https://localhost:8080/"
    },
    "executionInfo": {
     "elapsed": 27671,
     "status": "ok",
     "timestamp": 1698404068051,
     "user": {
      "displayName": "Priyanka Israni",
      "userId": "07224247261387411096"
     },
     "user_tz": -330
    },
    "id": "erPloPy_1GBK",
    "outputId": "d100adfc-31b6-4aaf-aa75-e7efa98e1316"
   },
   "outputs": [
    {
     "name": "stdout",
     "output_type": "stream",
     "text": [
      "Mounted at /content/gdrive\n"
     ]
    }
   ],
   "source": [
    "from google.colab import drive\n",
    "drive.mount('/content/gdrive',force_remount=True)"
   ]
  },
  {
   "cell_type": "code",
   "execution_count": 3,
   "id": "k65b0ZL21Nym",
   "metadata": {
    "colab": {
     "base_uri": "https://localhost:8080/"
    },
    "executionInfo": {
     "elapsed": 8,
     "status": "ok",
     "timestamp": 1698404068052,
     "user": {
      "displayName": "Priyanka Israni",
      "userId": "07224247261387411096"
     },
     "user_tz": -330
    },
    "id": "k65b0ZL21Nym",
    "outputId": "3fa55926-9200-484f-a188-7cc8dcf9e572"
   },
   "outputs": [
    {
     "name": "stdout",
     "output_type": "stream",
     "text": [
      "/content/gdrive/MyDrive/water_quality_prediction\n"
     ]
    }
   ],
   "source": [
    "%cd /content/gdrive/MyDrive/water_quality_prediction"
   ]
  },
  {
   "cell_type": "markdown",
   "id": "5f4a9fcd",
   "metadata": {
    "id": "5f4a9fcd",
    "papermill": {
     "duration": 0.012373,
     "end_time": "2023-06-14T08:53:48.015326",
     "exception": false,
     "start_time": "2023-06-14T08:53:48.002953",
     "status": "completed"
    },
    "tags": []
   },
   "source": [
    "## Importing Dataset"
   ]
  },
  {
   "cell_type": "code",
   "execution_count": 4,
   "id": "e74595a2",
   "metadata": {
    "execution": {
     "iopub.execute_input": "2023-06-14T08:53:48.042489Z",
     "iopub.status.busy": "2023-06-14T08:53:48.041783Z",
     "iopub.status.idle": "2023-06-14T08:53:48.080675Z",
     "shell.execute_reply": "2023-06-14T08:53:48.079346Z"
    },
    "executionInfo": {
     "elapsed": 1795,
     "status": "ok",
     "timestamp": 1698404069842,
     "user": {
      "displayName": "Priyanka Israni",
      "userId": "07224247261387411096"
     },
     "user_tz": -330
    },
    "id": "e74595a2",
    "papermill": {
     "duration": 0.055627,
     "end_time": "2023-06-14T08:53:48.083424",
     "exception": false,
     "start_time": "2023-06-14T08:53:48.027797",
     "status": "completed"
    },
    "tags": []
   },
   "outputs": [],
   "source": [
    "df = pd.read_csv('water_potability.csv')\n"
   ]
  },
  {
   "cell_type": "markdown",
   "id": "db0e16c7",
   "metadata": {
    "id": "db0e16c7",
    "papermill": {
     "duration": 0.012184,
     "end_time": "2023-06-14T08:53:48.108532",
     "exception": false,
     "start_time": "2023-06-14T08:53:48.096348",
     "status": "completed"
    },
    "tags": []
   },
   "source": [
    "# Exploratory Data Analysis"
   ]
  },
  {
   "cell_type": "code",
   "execution_count": 5,
   "id": "f74d06f4",
   "metadata": {
    "colab": {
     "base_uri": "https://localhost:8080/",
     "height": 363
    },
    "execution": {
     "iopub.execute_input": "2023-06-14T08:53:48.135197Z",
     "iopub.status.busy": "2023-06-14T08:53:48.134592Z",
     "iopub.status.idle": "2023-06-14T08:53:48.230349Z",
     "shell.execute_reply": "2023-06-14T08:53:48.228853Z"
    },
    "executionInfo": {
     "elapsed": 19,
     "status": "ok",
     "timestamp": 1698404069843,
     "user": {
      "displayName": "Priyanka Israni",
      "userId": "07224247261387411096"
     },
     "user_tz": -330
    },
    "id": "f74d06f4",
    "outputId": "9460c21e-74e7-4254-a60e-7d805c5c07c9",
    "papermill": {
     "duration": 0.111169,
     "end_time": "2023-06-14T08:53:48.232228",
     "exception": false,
     "start_time": "2023-06-14T08:53:48.121059",
     "status": "completed"
    },
    "tags": []
   },
   "outputs": [
    {
     "data": {
      "text/html": [
       "\n",
       "  <div id=\"df-21d4b9f0-d748-4670-aeed-f048ff111a42\" class=\"colab-df-container\">\n",
       "    <div>\n",
       "<style scoped>\n",
       "    .dataframe tbody tr th:only-of-type {\n",
       "        vertical-align: middle;\n",
       "    }\n",
       "\n",
       "    .dataframe tbody tr th {\n",
       "        vertical-align: top;\n",
       "    }\n",
       "\n",
       "    .dataframe thead th {\n",
       "        text-align: right;\n",
       "    }\n",
       "</style>\n",
       "<table border=\"1\" class=\"dataframe\">\n",
       "  <thead>\n",
       "    <tr style=\"text-align: right;\">\n",
       "      <th></th>\n",
       "      <th>ph</th>\n",
       "      <th>Hardness</th>\n",
       "      <th>Solids</th>\n",
       "      <th>Chloramines</th>\n",
       "      <th>Sulfate</th>\n",
       "      <th>Conductivity</th>\n",
       "      <th>Organic_carbon</th>\n",
       "      <th>Trihalomethanes</th>\n",
       "      <th>Turbidity</th>\n",
       "      <th>Potability</th>\n",
       "    </tr>\n",
       "  </thead>\n",
       "  <tbody>\n",
       "    <tr>\n",
       "      <th>0</th>\n",
       "      <td>NaN</td>\n",
       "      <td>204.890455</td>\n",
       "      <td>20791.318981</td>\n",
       "      <td>7.300212</td>\n",
       "      <td>368.516441</td>\n",
       "      <td>564.308654</td>\n",
       "      <td>10.379783</td>\n",
       "      <td>86.990970</td>\n",
       "      <td>2.963135</td>\n",
       "      <td>0</td>\n",
       "    </tr>\n",
       "    <tr>\n",
       "      <th>1</th>\n",
       "      <td>3.716080</td>\n",
       "      <td>129.422921</td>\n",
       "      <td>18630.057858</td>\n",
       "      <td>6.635246</td>\n",
       "      <td>NaN</td>\n",
       "      <td>592.885359</td>\n",
       "      <td>15.180013</td>\n",
       "      <td>56.329076</td>\n",
       "      <td>4.500656</td>\n",
       "      <td>0</td>\n",
       "    </tr>\n",
       "    <tr>\n",
       "      <th>2</th>\n",
       "      <td>8.099124</td>\n",
       "      <td>224.236259</td>\n",
       "      <td>19909.541732</td>\n",
       "      <td>9.275884</td>\n",
       "      <td>NaN</td>\n",
       "      <td>418.606213</td>\n",
       "      <td>16.868637</td>\n",
       "      <td>66.420093</td>\n",
       "      <td>3.055934</td>\n",
       "      <td>0</td>\n",
       "    </tr>\n",
       "    <tr>\n",
       "      <th>3</th>\n",
       "      <td>8.316766</td>\n",
       "      <td>214.373394</td>\n",
       "      <td>22018.417441</td>\n",
       "      <td>8.059332</td>\n",
       "      <td>356.886136</td>\n",
       "      <td>363.266516</td>\n",
       "      <td>18.436524</td>\n",
       "      <td>100.341674</td>\n",
       "      <td>4.628771</td>\n",
       "      <td>0</td>\n",
       "    </tr>\n",
       "    <tr>\n",
       "      <th>4</th>\n",
       "      <td>9.092223</td>\n",
       "      <td>181.101509</td>\n",
       "      <td>17978.986339</td>\n",
       "      <td>6.546600</td>\n",
       "      <td>310.135738</td>\n",
       "      <td>398.410813</td>\n",
       "      <td>11.558279</td>\n",
       "      <td>31.997993</td>\n",
       "      <td>4.075075</td>\n",
       "      <td>0</td>\n",
       "    </tr>\n",
       "    <tr>\n",
       "      <th>5</th>\n",
       "      <td>5.584087</td>\n",
       "      <td>188.313324</td>\n",
       "      <td>28748.687739</td>\n",
       "      <td>7.544869</td>\n",
       "      <td>326.678363</td>\n",
       "      <td>280.467916</td>\n",
       "      <td>8.399735</td>\n",
       "      <td>54.917862</td>\n",
       "      <td>2.559708</td>\n",
       "      <td>0</td>\n",
       "    </tr>\n",
       "    <tr>\n",
       "      <th>6</th>\n",
       "      <td>10.223862</td>\n",
       "      <td>248.071735</td>\n",
       "      <td>28749.716544</td>\n",
       "      <td>7.513408</td>\n",
       "      <td>393.663396</td>\n",
       "      <td>283.651634</td>\n",
       "      <td>13.789695</td>\n",
       "      <td>84.603556</td>\n",
       "      <td>2.672989</td>\n",
       "      <td>0</td>\n",
       "    </tr>\n",
       "    <tr>\n",
       "      <th>7</th>\n",
       "      <td>8.635849</td>\n",
       "      <td>203.361523</td>\n",
       "      <td>13672.091764</td>\n",
       "      <td>4.563009</td>\n",
       "      <td>303.309771</td>\n",
       "      <td>474.607645</td>\n",
       "      <td>12.363817</td>\n",
       "      <td>62.798309</td>\n",
       "      <td>4.401425</td>\n",
       "      <td>0</td>\n",
       "    </tr>\n",
       "    <tr>\n",
       "      <th>8</th>\n",
       "      <td>NaN</td>\n",
       "      <td>118.988579</td>\n",
       "      <td>14285.583854</td>\n",
       "      <td>7.804174</td>\n",
       "      <td>268.646941</td>\n",
       "      <td>389.375566</td>\n",
       "      <td>12.706049</td>\n",
       "      <td>53.928846</td>\n",
       "      <td>3.595017</td>\n",
       "      <td>0</td>\n",
       "    </tr>\n",
       "    <tr>\n",
       "      <th>9</th>\n",
       "      <td>11.180284</td>\n",
       "      <td>227.231469</td>\n",
       "      <td>25484.508491</td>\n",
       "      <td>9.077200</td>\n",
       "      <td>404.041635</td>\n",
       "      <td>563.885481</td>\n",
       "      <td>17.927806</td>\n",
       "      <td>71.976601</td>\n",
       "      <td>4.370562</td>\n",
       "      <td>0</td>\n",
       "    </tr>\n",
       "  </tbody>\n",
       "</table>\n",
       "</div>\n",
       "    <div class=\"colab-df-buttons\">\n",
       "\n",
       "  <div class=\"colab-df-container\">\n",
       "    <button class=\"colab-df-convert\" onclick=\"convertToInteractive('df-21d4b9f0-d748-4670-aeed-f048ff111a42')\"\n",
       "            title=\"Convert this dataframe to an interactive table.\"\n",
       "            style=\"display:none;\">\n",
       "\n",
       "  <svg xmlns=\"http://www.w3.org/2000/svg\" height=\"24px\" viewBox=\"0 -960 960 960\">\n",
       "    <path d=\"M120-120v-720h720v720H120Zm60-500h600v-160H180v160Zm220 220h160v-160H400v160Zm0 220h160v-160H400v160ZM180-400h160v-160H180v160Zm440 0h160v-160H620v160ZM180-180h160v-160H180v160Zm440 0h160v-160H620v160Z\"/>\n",
       "  </svg>\n",
       "    </button>\n",
       "\n",
       "  <style>\n",
       "    .colab-df-container {\n",
       "      display:flex;\n",
       "      gap: 12px;\n",
       "    }\n",
       "\n",
       "    .colab-df-convert {\n",
       "      background-color: #E8F0FE;\n",
       "      border: none;\n",
       "      border-radius: 50%;\n",
       "      cursor: pointer;\n",
       "      display: none;\n",
       "      fill: #1967D2;\n",
       "      height: 32px;\n",
       "      padding: 0 0 0 0;\n",
       "      width: 32px;\n",
       "    }\n",
       "\n",
       "    .colab-df-convert:hover {\n",
       "      background-color: #E2EBFA;\n",
       "      box-shadow: 0px 1px 2px rgba(60, 64, 67, 0.3), 0px 1px 3px 1px rgba(60, 64, 67, 0.15);\n",
       "      fill: #174EA6;\n",
       "    }\n",
       "\n",
       "    .colab-df-buttons div {\n",
       "      margin-bottom: 4px;\n",
       "    }\n",
       "\n",
       "    [theme=dark] .colab-df-convert {\n",
       "      background-color: #3B4455;\n",
       "      fill: #D2E3FC;\n",
       "    }\n",
       "\n",
       "    [theme=dark] .colab-df-convert:hover {\n",
       "      background-color: #434B5C;\n",
       "      box-shadow: 0px 1px 3px 1px rgba(0, 0, 0, 0.15);\n",
       "      filter: drop-shadow(0px 1px 2px rgba(0, 0, 0, 0.3));\n",
       "      fill: #FFFFFF;\n",
       "    }\n",
       "  </style>\n",
       "\n",
       "    <script>\n",
       "      const buttonEl =\n",
       "        document.querySelector('#df-21d4b9f0-d748-4670-aeed-f048ff111a42 button.colab-df-convert');\n",
       "      buttonEl.style.display =\n",
       "        google.colab.kernel.accessAllowed ? 'block' : 'none';\n",
       "\n",
       "      async function convertToInteractive(key) {\n",
       "        const element = document.querySelector('#df-21d4b9f0-d748-4670-aeed-f048ff111a42');\n",
       "        const dataTable =\n",
       "          await google.colab.kernel.invokeFunction('convertToInteractive',\n",
       "                                                    [key], {});\n",
       "        if (!dataTable) return;\n",
       "\n",
       "        const docLinkHtml = 'Like what you see? Visit the ' +\n",
       "          '<a target=\"_blank\" href=https://colab.research.google.com/notebooks/data_table.ipynb>data table notebook</a>'\n",
       "          + ' to learn more about interactive tables.';\n",
       "        element.innerHTML = '';\n",
       "        dataTable['output_type'] = 'display_data';\n",
       "        await google.colab.output.renderOutput(dataTable, element);\n",
       "        const docLink = document.createElement('div');\n",
       "        docLink.innerHTML = docLinkHtml;\n",
       "        element.appendChild(docLink);\n",
       "      }\n",
       "    </script>\n",
       "  </div>\n",
       "\n",
       "\n",
       "<div id=\"df-22468b87-df30-4439-8f83-33e0491073b5\">\n",
       "  <button class=\"colab-df-quickchart\" onclick=\"quickchart('df-22468b87-df30-4439-8f83-33e0491073b5')\"\n",
       "            title=\"Suggest charts.\"\n",
       "            style=\"display:none;\">\n",
       "\n",
       "<svg xmlns=\"http://www.w3.org/2000/svg\" height=\"24px\"viewBox=\"0 0 24 24\"\n",
       "     width=\"24px\">\n",
       "    <g>\n",
       "        <path d=\"M19 3H5c-1.1 0-2 .9-2 2v14c0 1.1.9 2 2 2h14c1.1 0 2-.9 2-2V5c0-1.1-.9-2-2-2zM9 17H7v-7h2v7zm4 0h-2V7h2v10zm4 0h-2v-4h2v4z\"/>\n",
       "    </g>\n",
       "</svg>\n",
       "  </button>\n",
       "\n",
       "<style>\n",
       "  .colab-df-quickchart {\n",
       "      --bg-color: #E8F0FE;\n",
       "      --fill-color: #1967D2;\n",
       "      --hover-bg-color: #E2EBFA;\n",
       "      --hover-fill-color: #174EA6;\n",
       "      --disabled-fill-color: #AAA;\n",
       "      --disabled-bg-color: #DDD;\n",
       "  }\n",
       "\n",
       "  [theme=dark] .colab-df-quickchart {\n",
       "      --bg-color: #3B4455;\n",
       "      --fill-color: #D2E3FC;\n",
       "      --hover-bg-color: #434B5C;\n",
       "      --hover-fill-color: #FFFFFF;\n",
       "      --disabled-bg-color: #3B4455;\n",
       "      --disabled-fill-color: #666;\n",
       "  }\n",
       "\n",
       "  .colab-df-quickchart {\n",
       "    background-color: var(--bg-color);\n",
       "    border: none;\n",
       "    border-radius: 50%;\n",
       "    cursor: pointer;\n",
       "    display: none;\n",
       "    fill: var(--fill-color);\n",
       "    height: 32px;\n",
       "    padding: 0;\n",
       "    width: 32px;\n",
       "  }\n",
       "\n",
       "  .colab-df-quickchart:hover {\n",
       "    background-color: var(--hover-bg-color);\n",
       "    box-shadow: 0 1px 2px rgba(60, 64, 67, 0.3), 0 1px 3px 1px rgba(60, 64, 67, 0.15);\n",
       "    fill: var(--button-hover-fill-color);\n",
       "  }\n",
       "\n",
       "  .colab-df-quickchart-complete:disabled,\n",
       "  .colab-df-quickchart-complete:disabled:hover {\n",
       "    background-color: var(--disabled-bg-color);\n",
       "    fill: var(--disabled-fill-color);\n",
       "    box-shadow: none;\n",
       "  }\n",
       "\n",
       "  .colab-df-spinner {\n",
       "    border: 2px solid var(--fill-color);\n",
       "    border-color: transparent;\n",
       "    border-bottom-color: var(--fill-color);\n",
       "    animation:\n",
       "      spin 1s steps(1) infinite;\n",
       "  }\n",
       "\n",
       "  @keyframes spin {\n",
       "    0% {\n",
       "      border-color: transparent;\n",
       "      border-bottom-color: var(--fill-color);\n",
       "      border-left-color: var(--fill-color);\n",
       "    }\n",
       "    20% {\n",
       "      border-color: transparent;\n",
       "      border-left-color: var(--fill-color);\n",
       "      border-top-color: var(--fill-color);\n",
       "    }\n",
       "    30% {\n",
       "      border-color: transparent;\n",
       "      border-left-color: var(--fill-color);\n",
       "      border-top-color: var(--fill-color);\n",
       "      border-right-color: var(--fill-color);\n",
       "    }\n",
       "    40% {\n",
       "      border-color: transparent;\n",
       "      border-right-color: var(--fill-color);\n",
       "      border-top-color: var(--fill-color);\n",
       "    }\n",
       "    60% {\n",
       "      border-color: transparent;\n",
       "      border-right-color: var(--fill-color);\n",
       "    }\n",
       "    80% {\n",
       "      border-color: transparent;\n",
       "      border-right-color: var(--fill-color);\n",
       "      border-bottom-color: var(--fill-color);\n",
       "    }\n",
       "    90% {\n",
       "      border-color: transparent;\n",
       "      border-bottom-color: var(--fill-color);\n",
       "    }\n",
       "  }\n",
       "</style>\n",
       "\n",
       "  <script>\n",
       "    async function quickchart(key) {\n",
       "      const quickchartButtonEl =\n",
       "        document.querySelector('#' + key + ' button');\n",
       "      quickchartButtonEl.disabled = true;  // To prevent multiple clicks.\n",
       "      quickchartButtonEl.classList.add('colab-df-spinner');\n",
       "      try {\n",
       "        const charts = await google.colab.kernel.invokeFunction(\n",
       "            'suggestCharts', [key], {});\n",
       "      } catch (error) {\n",
       "        console.error('Error during call to suggestCharts:', error);\n",
       "      }\n",
       "      quickchartButtonEl.classList.remove('colab-df-spinner');\n",
       "      quickchartButtonEl.classList.add('colab-df-quickchart-complete');\n",
       "    }\n",
       "    (() => {\n",
       "      let quickchartButtonEl =\n",
       "        document.querySelector('#df-22468b87-df30-4439-8f83-33e0491073b5 button');\n",
       "      quickchartButtonEl.style.display =\n",
       "        google.colab.kernel.accessAllowed ? 'block' : 'none';\n",
       "    })();\n",
       "  </script>\n",
       "</div>\n",
       "    </div>\n",
       "  </div>\n"
      ],
      "text/plain": [
       "          ph    Hardness        Solids  Chloramines     Sulfate  Conductivity  \\\n",
       "0        NaN  204.890455  20791.318981     7.300212  368.516441    564.308654   \n",
       "1   3.716080  129.422921  18630.057858     6.635246         NaN    592.885359   \n",
       "2   8.099124  224.236259  19909.541732     9.275884         NaN    418.606213   \n",
       "3   8.316766  214.373394  22018.417441     8.059332  356.886136    363.266516   \n",
       "4   9.092223  181.101509  17978.986339     6.546600  310.135738    398.410813   \n",
       "5   5.584087  188.313324  28748.687739     7.544869  326.678363    280.467916   \n",
       "6  10.223862  248.071735  28749.716544     7.513408  393.663396    283.651634   \n",
       "7   8.635849  203.361523  13672.091764     4.563009  303.309771    474.607645   \n",
       "8        NaN  118.988579  14285.583854     7.804174  268.646941    389.375566   \n",
       "9  11.180284  227.231469  25484.508491     9.077200  404.041635    563.885481   \n",
       "\n",
       "   Organic_carbon  Trihalomethanes  Turbidity  Potability  \n",
       "0       10.379783        86.990970   2.963135           0  \n",
       "1       15.180013        56.329076   4.500656           0  \n",
       "2       16.868637        66.420093   3.055934           0  \n",
       "3       18.436524       100.341674   4.628771           0  \n",
       "4       11.558279        31.997993   4.075075           0  \n",
       "5        8.399735        54.917862   2.559708           0  \n",
       "6       13.789695        84.603556   2.672989           0  \n",
       "7       12.363817        62.798309   4.401425           0  \n",
       "8       12.706049        53.928846   3.595017           0  \n",
       "9       17.927806        71.976601   4.370562           0  "
      ]
     },
     "execution_count": 5,
     "metadata": {},
     "output_type": "execute_result"
    }
   ],
   "source": [
    "dataset = df.copy()\n",
    "dataset.head(n = 10)"
   ]
  },
  {
   "cell_type": "code",
   "execution_count": 7,
   "id": "68cef6da",
   "metadata": {
    "colab": {
     "base_uri": "https://localhost:8080/"
    },
    "execution": {
     "iopub.execute_input": "2023-06-14T08:53:48.285363Z",
     "iopub.status.busy": "2023-06-14T08:53:48.284970Z",
     "iopub.status.idle": "2023-06-14T08:53:48.290641Z",
     "shell.execute_reply": "2023-06-14T08:53:48.289585Z"
    },
    "executionInfo": {
     "elapsed": 20,
     "status": "ok",
     "timestamp": 1698404076193,
     "user": {
      "displayName": "Priyanka Israni",
      "userId": "07224247261387411096"
     },
     "user_tz": -330
    },
    "id": "68cef6da",
    "outputId": "da4a9259-0a2f-4e9a-e81d-c0614a7a4105",
    "papermill": {
     "duration": 0.021423,
     "end_time": "2023-06-14T08:53:48.292282",
     "exception": false,
     "start_time": "2023-06-14T08:53:48.270859",
     "status": "completed"
    },
    "tags": []
   },
   "outputs": [
    {
     "data": {
      "text/plain": [
       "(3276, 10)"
      ]
     },
     "execution_count": 7,
     "metadata": {},
     "output_type": "execute_result"
    }
   ],
   "source": [
    "dataset.shape"
   ]
  },
  {
   "cell_type": "code",
   "execution_count": 6,
   "id": "a0aec0b1",
   "metadata": {
    "colab": {
     "base_uri": "https://localhost:8080/"
    },
    "execution": {
     "iopub.execute_input": "2023-06-14T08:53:48.319933Z",
     "iopub.status.busy": "2023-06-14T08:53:48.319334Z",
     "iopub.status.idle": "2023-06-14T08:53:48.336839Z",
     "shell.execute_reply": "2023-06-14T08:53:48.335061Z"
    },
    "executionInfo": {
     "elapsed": 468,
     "status": "ok",
     "timestamp": 1698404075011,
     "user": {
      "displayName": "Priyanka Israni",
      "userId": "07224247261387411096"
     },
     "user_tz": -330
    },
    "id": "a0aec0b1",
    "outputId": "94939d7a-68cd-4101-dc2a-730b36408bd2",
    "papermill": {
     "duration": 0.035096,
     "end_time": "2023-06-14T08:53:48.340175",
     "exception": false,
     "start_time": "2023-06-14T08:53:48.305079",
     "status": "completed"
    },
    "tags": []
   },
   "outputs": [
    {
     "name": "stdout",
     "output_type": "stream",
     "text": [
      "<class 'pandas.core.frame.DataFrame'>\n",
      "RangeIndex: 3276 entries, 0 to 3275\n",
      "Data columns (total 10 columns):\n",
      " #   Column           Non-Null Count  Dtype  \n",
      "---  ------           --------------  -----  \n",
      " 0   ph               2785 non-null   float64\n",
      " 1   Hardness         3276 non-null   float64\n",
      " 2   Solids           3276 non-null   float64\n",
      " 3   Chloramines      3276 non-null   float64\n",
      " 4   Sulfate          2495 non-null   float64\n",
      " 5   Conductivity     3276 non-null   float64\n",
      " 6   Organic_carbon   3276 non-null   float64\n",
      " 7   Trihalomethanes  3114 non-null   float64\n",
      " 8   Turbidity        3276 non-null   float64\n",
      " 9   Potability       3276 non-null   int64  \n",
      "dtypes: float64(9), int64(1)\n",
      "memory usage: 256.1 KB\n"
     ]
    }
   ],
   "source": [
    "dataset.info()"
   ]
  },
  {
   "cell_type": "code",
   "execution_count": 8,
   "id": "1ce96dfc",
   "metadata": {
    "colab": {
     "base_uri": "https://localhost:8080/"
    },
    "execution": {
     "iopub.execute_input": "2023-06-14T08:53:48.396705Z",
     "iopub.status.busy": "2023-06-14T08:53:48.395926Z",
     "iopub.status.idle": "2023-06-14T08:53:48.407075Z",
     "shell.execute_reply": "2023-06-14T08:53:48.406154Z"
    },
    "executionInfo": {
     "elapsed": 3,
     "status": "ok",
     "timestamp": 1698404077795,
     "user": {
      "displayName": "Priyanka Israni",
      "userId": "07224247261387411096"
     },
     "user_tz": -330
    },
    "id": "1ce96dfc",
    "outputId": "5d7bb4b1-7ead-46ec-bbc8-7574a8f9c68a",
    "papermill": {
     "duration": 0.027752,
     "end_time": "2023-06-14T08:53:48.409025",
     "exception": false,
     "start_time": "2023-06-14T08:53:48.381273",
     "status": "completed"
    },
    "tags": []
   },
   "outputs": [
    {
     "data": {
      "text/plain": [
       "ph                 2785\n",
       "Hardness           3276\n",
       "Solids             3276\n",
       "Chloramines        3276\n",
       "Sulfate            2495\n",
       "Conductivity       3276\n",
       "Organic_carbon     3276\n",
       "Trihalomethanes    3114\n",
       "Turbidity          3276\n",
       "Potability            2\n",
       "dtype: int64"
      ]
     },
     "execution_count": 8,
     "metadata": {},
     "output_type": "execute_result"
    }
   ],
   "source": [
    "dataset.nunique()"
   ]
  },
  {
   "cell_type": "markdown",
   "id": "966b5c37",
   "metadata": {
    "id": "966b5c37",
    "papermill": {
     "duration": 0.013204,
     "end_time": "2023-06-14T08:53:48.435844",
     "exception": false,
     "start_time": "2023-06-14T08:53:48.422640",
     "status": "completed"
    },
    "tags": []
   },
   "source": [
    "Let's look at the statistics of the dataset"
   ]
  },
  {
   "cell_type": "code",
   "execution_count": null,
   "id": "904bd1a7",
   "metadata": {
    "execution": {
     "iopub.execute_input": "2023-06-14T08:53:48.465009Z",
     "iopub.status.busy": "2023-06-14T08:53:48.463756Z",
     "iopub.status.idle": "2023-06-14T08:53:48.470999Z",
     "shell.execute_reply": "2023-06-14T08:53:48.469804Z"
    },
    "id": "904bd1a7",
    "papermill": {
     "duration": 0.02374,
     "end_time": "2023-06-14T08:53:48.473052",
     "exception": false,
     "start_time": "2023-06-14T08:53:48.449312",
     "status": "completed"
    },
    "tags": []
   },
   "outputs": [],
   "source": [
    "dataset['Potability']=dataset['Potability'].astype('category')"
   ]
  },
  {
   "cell_type": "markdown",
   "id": "ebf30e79",
   "metadata": {
    "id": "ebf30e79",
    "papermill": {
     "duration": 0.013162,
     "end_time": "2023-06-14T08:53:48.499646",
     "exception": false,
     "start_time": "2023-06-14T08:53:48.486484",
     "status": "completed"
    },
    "tags": []
   },
   "source": [
    "# **Statistical Analysis**"
   ]
  },
  {
   "cell_type": "code",
   "execution_count": null,
   "id": "cf7d3539",
   "metadata": {
    "colab": {
     "base_uri": "https://localhost:8080/",
     "height": 300
    },
    "execution": {
     "iopub.execute_input": "2023-06-14T08:53:48.528028Z",
     "iopub.status.busy": "2023-06-14T08:53:48.527617Z",
     "iopub.status.idle": "2023-06-14T08:53:48.569627Z",
     "shell.execute_reply": "2023-06-14T08:53:48.568092Z"
    },
    "executionInfo": {
     "elapsed": 15,
     "status": "ok",
     "timestamp": 1698296121974,
     "user": {
      "displayName": "Priyanka Israni",
      "userId": "07224247261387411096"
     },
     "user_tz": -330
    },
    "id": "cf7d3539",
    "outputId": "12634e3f-07bd-482f-9429-8f2001e393fc",
    "papermill": {
     "duration": 0.059391,
     "end_time": "2023-06-14T08:53:48.572293",
     "exception": false,
     "start_time": "2023-06-14T08:53:48.512902",
     "status": "completed"
    },
    "tags": []
   },
   "outputs": [
    {
     "data": {
      "text/html": [
       "\n",
       "  <div id=\"df-e87896a4-0a6b-4a21-8ec9-8e4037457cd2\" class=\"colab-df-container\">\n",
       "    <div>\n",
       "<style scoped>\n",
       "    .dataframe tbody tr th:only-of-type {\n",
       "        vertical-align: middle;\n",
       "    }\n",
       "\n",
       "    .dataframe tbody tr th {\n",
       "        vertical-align: top;\n",
       "    }\n",
       "\n",
       "    .dataframe thead th {\n",
       "        text-align: right;\n",
       "    }\n",
       "</style>\n",
       "<table border=\"1\" class=\"dataframe\">\n",
       "  <thead>\n",
       "    <tr style=\"text-align: right;\">\n",
       "      <th></th>\n",
       "      <th>ph</th>\n",
       "      <th>Hardness</th>\n",
       "      <th>Solids</th>\n",
       "      <th>Chloramines</th>\n",
       "      <th>Sulfate</th>\n",
       "      <th>Conductivity</th>\n",
       "      <th>Organic_carbon</th>\n",
       "      <th>Trihalomethanes</th>\n",
       "      <th>Turbidity</th>\n",
       "    </tr>\n",
       "  </thead>\n",
       "  <tbody>\n",
       "    <tr>\n",
       "      <th>count</th>\n",
       "      <td>2785.000000</td>\n",
       "      <td>3276.000000</td>\n",
       "      <td>3276.000000</td>\n",
       "      <td>3276.000000</td>\n",
       "      <td>2495.000000</td>\n",
       "      <td>3276.000000</td>\n",
       "      <td>3276.000000</td>\n",
       "      <td>3114.000000</td>\n",
       "      <td>3276.000000</td>\n",
       "    </tr>\n",
       "    <tr>\n",
       "      <th>mean</th>\n",
       "      <td>7.080795</td>\n",
       "      <td>196.369496</td>\n",
       "      <td>22014.092526</td>\n",
       "      <td>7.122277</td>\n",
       "      <td>333.775777</td>\n",
       "      <td>426.205111</td>\n",
       "      <td>14.284970</td>\n",
       "      <td>66.396293</td>\n",
       "      <td>3.966786</td>\n",
       "    </tr>\n",
       "    <tr>\n",
       "      <th>std</th>\n",
       "      <td>1.594320</td>\n",
       "      <td>32.879761</td>\n",
       "      <td>8768.570828</td>\n",
       "      <td>1.583085</td>\n",
       "      <td>41.416840</td>\n",
       "      <td>80.824064</td>\n",
       "      <td>3.308162</td>\n",
       "      <td>16.175008</td>\n",
       "      <td>0.780382</td>\n",
       "    </tr>\n",
       "    <tr>\n",
       "      <th>min</th>\n",
       "      <td>0.000000</td>\n",
       "      <td>47.432000</td>\n",
       "      <td>320.942611</td>\n",
       "      <td>0.352000</td>\n",
       "      <td>129.000000</td>\n",
       "      <td>181.483754</td>\n",
       "      <td>2.200000</td>\n",
       "      <td>0.738000</td>\n",
       "      <td>1.450000</td>\n",
       "    </tr>\n",
       "    <tr>\n",
       "      <th>25%</th>\n",
       "      <td>6.093092</td>\n",
       "      <td>176.850538</td>\n",
       "      <td>15666.690297</td>\n",
       "      <td>6.127421</td>\n",
       "      <td>307.699498</td>\n",
       "      <td>365.734414</td>\n",
       "      <td>12.065801</td>\n",
       "      <td>55.844536</td>\n",
       "      <td>3.439711</td>\n",
       "    </tr>\n",
       "    <tr>\n",
       "      <th>50%</th>\n",
       "      <td>7.036752</td>\n",
       "      <td>196.967627</td>\n",
       "      <td>20927.833607</td>\n",
       "      <td>7.130299</td>\n",
       "      <td>333.073546</td>\n",
       "      <td>421.884968</td>\n",
       "      <td>14.218338</td>\n",
       "      <td>66.622485</td>\n",
       "      <td>3.955028</td>\n",
       "    </tr>\n",
       "    <tr>\n",
       "      <th>75%</th>\n",
       "      <td>8.062066</td>\n",
       "      <td>216.667456</td>\n",
       "      <td>27332.762127</td>\n",
       "      <td>8.114887</td>\n",
       "      <td>359.950170</td>\n",
       "      <td>481.792304</td>\n",
       "      <td>16.557652</td>\n",
       "      <td>77.337473</td>\n",
       "      <td>4.500320</td>\n",
       "    </tr>\n",
       "    <tr>\n",
       "      <th>max</th>\n",
       "      <td>14.000000</td>\n",
       "      <td>323.124000</td>\n",
       "      <td>61227.196008</td>\n",
       "      <td>13.127000</td>\n",
       "      <td>481.030642</td>\n",
       "      <td>753.342620</td>\n",
       "      <td>28.300000</td>\n",
       "      <td>124.000000</td>\n",
       "      <td>6.739000</td>\n",
       "    </tr>\n",
       "  </tbody>\n",
       "</table>\n",
       "</div>\n",
       "    <div class=\"colab-df-buttons\">\n",
       "\n",
       "  <div class=\"colab-df-container\">\n",
       "    <button class=\"colab-df-convert\" onclick=\"convertToInteractive('df-e87896a4-0a6b-4a21-8ec9-8e4037457cd2')\"\n",
       "            title=\"Convert this dataframe to an interactive table.\"\n",
       "            style=\"display:none;\">\n",
       "\n",
       "  <svg xmlns=\"http://www.w3.org/2000/svg\" height=\"24px\" viewBox=\"0 -960 960 960\">\n",
       "    <path d=\"M120-120v-720h720v720H120Zm60-500h600v-160H180v160Zm220 220h160v-160H400v160Zm0 220h160v-160H400v160ZM180-400h160v-160H180v160Zm440 0h160v-160H620v160ZM180-180h160v-160H180v160Zm440 0h160v-160H620v160Z\"/>\n",
       "  </svg>\n",
       "    </button>\n",
       "\n",
       "  <style>\n",
       "    .colab-df-container {\n",
       "      display:flex;\n",
       "      gap: 12px;\n",
       "    }\n",
       "\n",
       "    .colab-df-convert {\n",
       "      background-color: #E8F0FE;\n",
       "      border: none;\n",
       "      border-radius: 50%;\n",
       "      cursor: pointer;\n",
       "      display: none;\n",
       "      fill: #1967D2;\n",
       "      height: 32px;\n",
       "      padding: 0 0 0 0;\n",
       "      width: 32px;\n",
       "    }\n",
       "\n",
       "    .colab-df-convert:hover {\n",
       "      background-color: #E2EBFA;\n",
       "      box-shadow: 0px 1px 2px rgba(60, 64, 67, 0.3), 0px 1px 3px 1px rgba(60, 64, 67, 0.15);\n",
       "      fill: #174EA6;\n",
       "    }\n",
       "\n",
       "    .colab-df-buttons div {\n",
       "      margin-bottom: 4px;\n",
       "    }\n",
       "\n",
       "    [theme=dark] .colab-df-convert {\n",
       "      background-color: #3B4455;\n",
       "      fill: #D2E3FC;\n",
       "    }\n",
       "\n",
       "    [theme=dark] .colab-df-convert:hover {\n",
       "      background-color: #434B5C;\n",
       "      box-shadow: 0px 1px 3px 1px rgba(0, 0, 0, 0.15);\n",
       "      filter: drop-shadow(0px 1px 2px rgba(0, 0, 0, 0.3));\n",
       "      fill: #FFFFFF;\n",
       "    }\n",
       "  </style>\n",
       "\n",
       "    <script>\n",
       "      const buttonEl =\n",
       "        document.querySelector('#df-e87896a4-0a6b-4a21-8ec9-8e4037457cd2 button.colab-df-convert');\n",
       "      buttonEl.style.display =\n",
       "        google.colab.kernel.accessAllowed ? 'block' : 'none';\n",
       "\n",
       "      async function convertToInteractive(key) {\n",
       "        const element = document.querySelector('#df-e87896a4-0a6b-4a21-8ec9-8e4037457cd2');\n",
       "        const dataTable =\n",
       "          await google.colab.kernel.invokeFunction('convertToInteractive',\n",
       "                                                    [key], {});\n",
       "        if (!dataTable) return;\n",
       "\n",
       "        const docLinkHtml = 'Like what you see? Visit the ' +\n",
       "          '<a target=\"_blank\" href=https://colab.research.google.com/notebooks/data_table.ipynb>data table notebook</a>'\n",
       "          + ' to learn more about interactive tables.';\n",
       "        element.innerHTML = '';\n",
       "        dataTable['output_type'] = 'display_data';\n",
       "        await google.colab.output.renderOutput(dataTable, element);\n",
       "        const docLink = document.createElement('div');\n",
       "        docLink.innerHTML = docLinkHtml;\n",
       "        element.appendChild(docLink);\n",
       "      }\n",
       "    </script>\n",
       "  </div>\n",
       "\n",
       "\n",
       "<div id=\"df-8b7e8374-ef5e-4a7d-93d1-312bf9f7b34c\">\n",
       "  <button class=\"colab-df-quickchart\" onclick=\"quickchart('df-8b7e8374-ef5e-4a7d-93d1-312bf9f7b34c')\"\n",
       "            title=\"Suggest charts.\"\n",
       "            style=\"display:none;\">\n",
       "\n",
       "<svg xmlns=\"http://www.w3.org/2000/svg\" height=\"24px\"viewBox=\"0 0 24 24\"\n",
       "     width=\"24px\">\n",
       "    <g>\n",
       "        <path d=\"M19 3H5c-1.1 0-2 .9-2 2v14c0 1.1.9 2 2 2h14c1.1 0 2-.9 2-2V5c0-1.1-.9-2-2-2zM9 17H7v-7h2v7zm4 0h-2V7h2v10zm4 0h-2v-4h2v4z\"/>\n",
       "    </g>\n",
       "</svg>\n",
       "  </button>\n",
       "\n",
       "<style>\n",
       "  .colab-df-quickchart {\n",
       "      --bg-color: #E8F0FE;\n",
       "      --fill-color: #1967D2;\n",
       "      --hover-bg-color: #E2EBFA;\n",
       "      --hover-fill-color: #174EA6;\n",
       "      --disabled-fill-color: #AAA;\n",
       "      --disabled-bg-color: #DDD;\n",
       "  }\n",
       "\n",
       "  [theme=dark] .colab-df-quickchart {\n",
       "      --bg-color: #3B4455;\n",
       "      --fill-color: #D2E3FC;\n",
       "      --hover-bg-color: #434B5C;\n",
       "      --hover-fill-color: #FFFFFF;\n",
       "      --disabled-bg-color: #3B4455;\n",
       "      --disabled-fill-color: #666;\n",
       "  }\n",
       "\n",
       "  .colab-df-quickchart {\n",
       "    background-color: var(--bg-color);\n",
       "    border: none;\n",
       "    border-radius: 50%;\n",
       "    cursor: pointer;\n",
       "    display: none;\n",
       "    fill: var(--fill-color);\n",
       "    height: 32px;\n",
       "    padding: 0;\n",
       "    width: 32px;\n",
       "  }\n",
       "\n",
       "  .colab-df-quickchart:hover {\n",
       "    background-color: var(--hover-bg-color);\n",
       "    box-shadow: 0 1px 2px rgba(60, 64, 67, 0.3), 0 1px 3px 1px rgba(60, 64, 67, 0.15);\n",
       "    fill: var(--button-hover-fill-color);\n",
       "  }\n",
       "\n",
       "  .colab-df-quickchart-complete:disabled,\n",
       "  .colab-df-quickchart-complete:disabled:hover {\n",
       "    background-color: var(--disabled-bg-color);\n",
       "    fill: var(--disabled-fill-color);\n",
       "    box-shadow: none;\n",
       "  }\n",
       "\n",
       "  .colab-df-spinner {\n",
       "    border: 2px solid var(--fill-color);\n",
       "    border-color: transparent;\n",
       "    border-bottom-color: var(--fill-color);\n",
       "    animation:\n",
       "      spin 1s steps(1) infinite;\n",
       "  }\n",
       "\n",
       "  @keyframes spin {\n",
       "    0% {\n",
       "      border-color: transparent;\n",
       "      border-bottom-color: var(--fill-color);\n",
       "      border-left-color: var(--fill-color);\n",
       "    }\n",
       "    20% {\n",
       "      border-color: transparent;\n",
       "      border-left-color: var(--fill-color);\n",
       "      border-top-color: var(--fill-color);\n",
       "    }\n",
       "    30% {\n",
       "      border-color: transparent;\n",
       "      border-left-color: var(--fill-color);\n",
       "      border-top-color: var(--fill-color);\n",
       "      border-right-color: var(--fill-color);\n",
       "    }\n",
       "    40% {\n",
       "      border-color: transparent;\n",
       "      border-right-color: var(--fill-color);\n",
       "      border-top-color: var(--fill-color);\n",
       "    }\n",
       "    60% {\n",
       "      border-color: transparent;\n",
       "      border-right-color: var(--fill-color);\n",
       "    }\n",
       "    80% {\n",
       "      border-color: transparent;\n",
       "      border-right-color: var(--fill-color);\n",
       "      border-bottom-color: var(--fill-color);\n",
       "    }\n",
       "    90% {\n",
       "      border-color: transparent;\n",
       "      border-bottom-color: var(--fill-color);\n",
       "    }\n",
       "  }\n",
       "</style>\n",
       "\n",
       "  <script>\n",
       "    async function quickchart(key) {\n",
       "      const quickchartButtonEl =\n",
       "        document.querySelector('#' + key + ' button');\n",
       "      quickchartButtonEl.disabled = true;  // To prevent multiple clicks.\n",
       "      quickchartButtonEl.classList.add('colab-df-spinner');\n",
       "      try {\n",
       "        const charts = await google.colab.kernel.invokeFunction(\n",
       "            'suggestCharts', [key], {});\n",
       "      } catch (error) {\n",
       "        console.error('Error during call to suggestCharts:', error);\n",
       "      }\n",
       "      quickchartButtonEl.classList.remove('colab-df-spinner');\n",
       "      quickchartButtonEl.classList.add('colab-df-quickchart-complete');\n",
       "    }\n",
       "    (() => {\n",
       "      let quickchartButtonEl =\n",
       "        document.querySelector('#df-8b7e8374-ef5e-4a7d-93d1-312bf9f7b34c button');\n",
       "      quickchartButtonEl.style.display =\n",
       "        google.colab.kernel.accessAllowed ? 'block' : 'none';\n",
       "    })();\n",
       "  </script>\n",
       "</div>\n",
       "    </div>\n",
       "  </div>\n"
      ],
      "text/plain": [
       "                ph     Hardness        Solids  Chloramines      Sulfate  \\\n",
       "count  2785.000000  3276.000000   3276.000000  3276.000000  2495.000000   \n",
       "mean      7.080795   196.369496  22014.092526     7.122277   333.775777   \n",
       "std       1.594320    32.879761   8768.570828     1.583085    41.416840   \n",
       "min       0.000000    47.432000    320.942611     0.352000   129.000000   \n",
       "25%       6.093092   176.850538  15666.690297     6.127421   307.699498   \n",
       "50%       7.036752   196.967627  20927.833607     7.130299   333.073546   \n",
       "75%       8.062066   216.667456  27332.762127     8.114887   359.950170   \n",
       "max      14.000000   323.124000  61227.196008    13.127000   481.030642   \n",
       "\n",
       "       Conductivity  Organic_carbon  Trihalomethanes    Turbidity  \n",
       "count   3276.000000     3276.000000      3114.000000  3276.000000  \n",
       "mean     426.205111       14.284970        66.396293     3.966786  \n",
       "std       80.824064        3.308162        16.175008     0.780382  \n",
       "min      181.483754        2.200000         0.738000     1.450000  \n",
       "25%      365.734414       12.065801        55.844536     3.439711  \n",
       "50%      421.884968       14.218338        66.622485     3.955028  \n",
       "75%      481.792304       16.557652        77.337473     4.500320  \n",
       "max      753.342620       28.300000       124.000000     6.739000  "
      ]
     },
     "execution_count": 12,
     "metadata": {},
     "output_type": "execute_result"
    }
   ],
   "source": [
    "dataset.describe()"
   ]
  },
  {
   "cell_type": "markdown",
   "id": "5d2e51a7",
   "metadata": {
    "id": "5d2e51a7",
    "papermill": {
     "duration": 0.013432,
     "end_time": "2023-06-14T08:53:48.599666",
     "exception": false,
     "start_time": "2023-06-14T08:53:48.586234",
     "status": "completed"
    },
    "tags": []
   },
   "source": [
    "There are outliers in the data. We can delete no more than 1-2% of the data, i.e. 30-60 rows.\n",
    "From the above table, we can see that the count of each feature are not same. so there must me some null values. Feature Solids has the high mean and standard deviation comparted to other feature. so the distribution must be high. However, the above description is for overall population. lets try the same for 2 samples based on Portability feature"
   ]
  },
  {
   "cell_type": "markdown",
   "id": "0eb6a8b6",
   "metadata": {
    "id": "0eb6a8b6",
    "papermill": {
     "duration": 0.014181,
     "end_time": "2023-06-14T08:53:48.767625",
     "exception": false,
     "start_time": "2023-06-14T08:53:48.753444",
     "status": "completed"
    },
    "tags": []
   },
   "source": [
    "Mean and std of almost all features are similar for both samples. there are few differnces in Solids feature. Further analysis using hypothetical testing could help us to identify the significance."
   ]
  },
  {
   "cell_type": "markdown",
   "id": "6d392bba",
   "metadata": {
    "id": "6d392bba",
    "papermill": {
     "duration": 0.013774,
     "end_time": "2023-06-14T08:53:48.795493",
     "exception": false,
     "start_time": "2023-06-14T08:53:48.781719",
     "status": "completed"
    },
    "tags": []
   },
   "source": [
    "## **Let's check our dataset for duplicates.**"
   ]
  },
  {
   "cell_type": "code",
   "execution_count": 9,
   "id": "838b92fa",
   "metadata": {
    "colab": {
     "base_uri": "https://localhost:8080/"
    },
    "execution": {
     "iopub.execute_input": "2023-06-14T08:53:48.825552Z",
     "iopub.status.busy": "2023-06-14T08:53:48.825124Z",
     "iopub.status.idle": "2023-06-14T08:53:48.836889Z",
     "shell.execute_reply": "2023-06-14T08:53:48.836167Z"
    },
    "executionInfo": {
     "elapsed": 428,
     "status": "ok",
     "timestamp": 1698404112969,
     "user": {
      "displayName": "Priyanka Israni",
      "userId": "07224247261387411096"
     },
     "user_tz": -330
    },
    "id": "838b92fa",
    "outputId": "7a138aee-aea1-4c52-bc3a-cb1f8f1586c6",
    "papermill": {
     "duration": 0.02899,
     "end_time": "2023-06-14T08:53:48.838682",
     "exception": false,
     "start_time": "2023-06-14T08:53:48.809692",
     "status": "completed"
    },
    "tags": []
   },
   "outputs": [
    {
     "data": {
      "text/plain": [
       "0"
      ]
     },
     "execution_count": 9,
     "metadata": {},
     "output_type": "execute_result"
    }
   ],
   "source": [
    "dataset.duplicated().sum()"
   ]
  },
  {
   "cell_type": "markdown",
   "id": "0a2f616b",
   "metadata": {
    "id": "0a2f616b",
    "papermill": {
     "duration": 0.013951,
     "end_time": "2023-06-14T08:53:48.895466",
     "exception": false,
     "start_time": "2023-06-14T08:53:48.881515",
     "status": "completed"
    },
    "tags": []
   },
   "source": [
    "# Preprocessing: Missing Value Problem"
   ]
  },
  {
   "cell_type": "markdown",
   "id": "4d4bc650",
   "metadata": {
    "id": "4d4bc650",
    "papermill": {
     "duration": 0.01471,
     "end_time": "2023-06-14T08:53:49.354774",
     "exception": false,
     "start_time": "2023-06-14T08:53:49.340064",
     "status": "completed"
    },
    "tags": []
   },
   "source": [
    "# **Null Values**"
   ]
  },
  {
   "cell_type": "code",
   "execution_count": 10,
   "id": "db7cd256",
   "metadata": {
    "colab": {
     "base_uri": "https://localhost:8080/"
    },
    "execution": {
     "iopub.execute_input": "2023-06-14T08:53:49.385634Z",
     "iopub.status.busy": "2023-06-14T08:53:49.385309Z",
     "iopub.status.idle": "2023-06-14T08:53:49.390981Z",
     "shell.execute_reply": "2023-06-14T08:53:49.390364Z"
    },
    "executionInfo": {
     "elapsed": 4,
     "status": "ok",
     "timestamp": 1698404114518,
     "user": {
      "displayName": "Priyanka Israni",
      "userId": "07224247261387411096"
     },
     "user_tz": -330
    },
    "id": "db7cd256",
    "outputId": "b249c11d-9762-419b-e7f3-b4210ce852d2",
    "papermill": {
     "duration": 0.023038,
     "end_time": "2023-06-14T08:53:49.392518",
     "exception": false,
     "start_time": "2023-06-14T08:53:49.369480",
     "status": "completed"
    },
    "tags": []
   },
   "outputs": [
    {
     "data": {
      "text/plain": [
       "True"
      ]
     },
     "execution_count": 10,
     "metadata": {},
     "output_type": "execute_result"
    }
   ],
   "source": [
    "dataset.isnull().values.any()"
   ]
  },
  {
   "cell_type": "code",
   "execution_count": 11,
   "id": "1193bddc",
   "metadata": {
    "colab": {
     "base_uri": "https://localhost:8080/"
    },
    "execution": {
     "iopub.execute_input": "2023-06-14T08:53:49.424982Z",
     "iopub.status.busy": "2023-06-14T08:53:49.423677Z",
     "iopub.status.idle": "2023-06-14T08:53:49.432538Z",
     "shell.execute_reply": "2023-06-14T08:53:49.431577Z"
    },
    "executionInfo": {
     "elapsed": 2,
     "status": "ok",
     "timestamp": 1698404114945,
     "user": {
      "displayName": "Priyanka Israni",
      "userId": "07224247261387411096"
     },
     "user_tz": -330
    },
    "id": "1193bddc",
    "outputId": "dd093ab0-5bbb-480c-aed2-5b5beb8a5cfa",
    "papermill": {
     "duration": 0.026588,
     "end_time": "2023-06-14T08:53:49.434211",
     "exception": false,
     "start_time": "2023-06-14T08:53:49.407623",
     "status": "completed"
    },
    "tags": []
   },
   "outputs": [
    {
     "data": {
      "text/plain": [
       "ph                 491\n",
       "Hardness             0\n",
       "Solids               0\n",
       "Chloramines          0\n",
       "Sulfate            781\n",
       "Conductivity         0\n",
       "Organic_carbon       0\n",
       "Trihalomethanes    162\n",
       "Turbidity            0\n",
       "Potability           0\n",
       "dtype: int64"
      ]
     },
     "execution_count": 11,
     "metadata": {},
     "output_type": "execute_result"
    }
   ],
   "source": [
    "dataset.isnull().sum()"
   ]
  },
  {
   "cell_type": "markdown",
   "id": "c191c008",
   "metadata": {
    "id": "c191c008",
    "papermill": {
     "duration": 0.015828,
     "end_time": "2023-06-14T08:53:49.665476",
     "exception": false,
     "start_time": "2023-06-14T08:53:49.649648",
     "status": "completed"
    },
    "tags": []
   },
   "source": [
    "# **Imputing the missing values with the mean**"
   ]
  },
  {
   "cell_type": "code",
   "execution_count": 14,
   "id": "0fc8f385",
   "metadata": {
    "execution": {
     "iopub.execute_input": "2023-06-14T08:53:49.698316Z",
     "iopub.status.busy": "2023-06-14T08:53:49.697952Z",
     "iopub.status.idle": "2023-06-14T08:53:49.717200Z",
     "shell.execute_reply": "2023-06-14T08:53:49.716000Z"
    },
    "executionInfo": {
     "elapsed": 412,
     "status": "ok",
     "timestamp": 1698404241479,
     "user": {
      "displayName": "Priyanka Israni",
      "userId": "07224247261387411096"
     },
     "user_tz": -330
    },
    "id": "0fc8f385",
    "papermill": {
     "duration": 0.0385,
     "end_time": "2023-06-14T08:53:49.719547",
     "exception": false,
     "start_time": "2023-06-14T08:53:49.681047",
     "status": "completed"
    },
    "tags": []
   },
   "outputs": [],
   "source": [
    "#################################### Imputing 'ph' value #####################################\n",
    "\n",
    "phMean_0 = dataset[dataset['Potability'] == 0]['ph'].mean(skipna=True)\n",
    "dataset.loc[(dataset['Potability'] == 0) & (dataset['ph'].isna()), 'ph'] = phMean_0\n",
    "phMean_1 = dataset[dataset['Potability'] == 1]['ph'].mean(skipna=True)\n",
    "dataset.loc[(dataset['Potability'] == 1) & (dataset['ph'].isna()), 'ph'] = phMean_1\n",
    "\n",
    "##################################### Imputing 'Sulfate' value #####################################\n",
    "\n",
    "SulfateMean_0 = dataset[dataset['Potability'] == 0]['Sulfate'].mean(skipna=True)\n",
    "dataset.loc[(dataset['Potability'] == 0) & (dataset['Sulfate'].isna()), 'Sulfate'] = SulfateMean_0\n",
    "SulfateMean_1 = dataset[dataset['Potability'] == 1]['Sulfate'].mean(skipna=True)\n",
    "dataset.loc[(dataset['Potability'] == 1) & (dataset['Sulfate'].isna()), 'Sulfate'] = SulfateMean_1\n",
    "\n",
    "################################ Imputing 'Trihalomethanes' value #####################################\n",
    "\n",
    "TrihalomethanesMean_0 = df[df['Potability'] == 0]['Trihalomethanes'].mean(skipna=True)\n",
    "dataset.loc[(dataset['Potability'] == 0) & (dataset['Trihalomethanes'].isna()), 'Trihalomethanes'] = TrihalomethanesMean_0\n",
    "TrihalomethanesMean_1 = dataset[dataset['Potability'] == 1]['Trihalomethanes'].mean(skipna=True)\n",
    "dataset.loc[(dataset['Potability'] == 1) & (dataset['Trihalomethanes'].isna()), 'Trihalomethanes'] = TrihalomethanesMean_1"
   ]
  },
  {
   "cell_type": "code",
   "execution_count": 15,
   "id": "38f4e1ec",
   "metadata": {
    "colab": {
     "base_uri": "https://localhost:8080/"
    },
    "execution": {
     "iopub.execute_input": "2023-06-14T08:53:49.752912Z",
     "iopub.status.busy": "2023-06-14T08:53:49.752538Z",
     "iopub.status.idle": "2023-06-14T08:53:49.763027Z",
     "shell.execute_reply": "2023-06-14T08:53:49.761522Z"
    },
    "executionInfo": {
     "elapsed": 446,
     "status": "ok",
     "timestamp": 1698404246396,
     "user": {
      "displayName": "Priyanka Israni",
      "userId": "07224247261387411096"
     },
     "user_tz": -330
    },
    "id": "38f4e1ec",
    "outputId": "d377bc5e-1cb4-42ce-e571-29bde2668b3b",
    "papermill": {
     "duration": 0.029325,
     "end_time": "2023-06-14T08:53:49.764932",
     "exception": false,
     "start_time": "2023-06-14T08:53:49.735607",
     "status": "completed"
    },
    "tags": []
   },
   "outputs": [
    {
     "name": "stdout",
     "output_type": "stream",
     "text": [
      "If there is more missing data \n",
      "\n"
     ]
    },
    {
     "data": {
      "text/plain": [
       "ph                 0\n",
       "Hardness           0\n",
       "Solids             0\n",
       "Chloramines        0\n",
       "Sulfate            0\n",
       "Conductivity       0\n",
       "Organic_carbon     0\n",
       "Trihalomethanes    0\n",
       "Turbidity          0\n",
       "Potability         0\n",
       "dtype: int64"
      ]
     },
     "execution_count": 15,
     "metadata": {},
     "output_type": "execute_result"
    }
   ],
   "source": [
    "print('If there is more missing data \\n')\n",
    "dataset.isna().sum()"
   ]
  },
  {
   "cell_type": "markdown",
   "id": "a9b4678f",
   "metadata": {
    "id": "a9b4678f",
    "papermill": {
     "duration": 0.016257,
     "end_time": "2023-06-14T08:53:49.797509",
     "exception": false,
     "start_time": "2023-06-14T08:53:49.781252",
     "status": "completed"
    },
    "tags": []
   },
   "source": [
    "## Countplot for Potability"
   ]
  },
  {
   "cell_type": "code",
   "execution_count": 16,
   "id": "23dcedbf",
   "metadata": {
    "colab": {
     "base_uri": "https://localhost:8080/",
     "height": 575
    },
    "execution": {
     "iopub.execute_input": "2023-06-14T08:53:49.832015Z",
     "iopub.status.busy": "2023-06-14T08:53:49.831660Z",
     "iopub.status.idle": "2023-06-14T08:53:49.985492Z",
     "shell.execute_reply": "2023-06-14T08:53:49.984353Z"
    },
    "executionInfo": {
     "elapsed": 5,
     "status": "ok",
     "timestamp": 1698404248610,
     "user": {
      "displayName": "Priyanka Israni",
      "userId": "07224247261387411096"
     },
     "user_tz": -330
    },
    "id": "23dcedbf",
    "outputId": "5eb0d203-5ef2-4ac8-c688-eb850ceb6f7a",
    "papermill": {
     "duration": 0.173732,
     "end_time": "2023-06-14T08:53:49.987768",
     "exception": false,
     "start_time": "2023-06-14T08:53:49.814036",
     "status": "completed"
    },
    "tags": []
   },
   "outputs": [
    {
     "data": {
      "image/png": "[encoded data removed]",
      "text/plain": [
       "<Figure size 1200x600 with 1 Axes>"
      ]
     },
     "metadata": {},
     "output_type": "display_data"
    }
   ],
   "source": [
    "plt.figure(figsize=(12, 6))\n",
    "sns.countplot(x=\"Potability\", data=dataset, palette='husl');"
   ]
  },
  {
   "cell_type": "markdown",
   "id": "39ff592c",
   "metadata": {
    "id": "39ff592c",
    "papermill": {
     "duration": 0.015909,
     "end_time": "2023-06-14T08:53:50.020646",
     "exception": false,
     "start_time": "2023-06-14T08:53:50.004737",
     "status": "completed"
    },
    "tags": []
   },
   "source": [
    "There is a clear class imbalance."
   ]
  },
  {
   "cell_type": "markdown",
   "id": "083cd6fe",
   "metadata": {
    "id": "083cd6fe",
    "papermill": {
     "duration": 0.055894,
     "end_time": "2023-06-14T08:54:32.015612",
     "exception": false,
     "start_time": "2023-06-14T08:54:31.959718",
     "status": "completed"
    },
    "tags": []
   },
   "source": [
    "# **Data Preprocessing**"
   ]
  },
  {
   "cell_type": "code",
   "execution_count": 17,
   "id": "ca5950a7",
   "metadata": {
    "colab": {
     "base_uri": "https://localhost:8080/"
    },
    "execution": {
     "iopub.execute_input": "2023-06-14T08:54:32.131600Z",
     "iopub.status.busy": "2023-06-14T08:54:32.130581Z",
     "iopub.status.idle": "2023-06-14T08:54:32.270245Z",
     "shell.execute_reply": "2023-06-14T08:54:32.269557Z"
    },
    "executionInfo": {
     "elapsed": 739,
     "status": "ok",
     "timestamp": 1698404253284,
     "user": {
      "displayName": "Priyanka Israni",
      "userId": "07224247261387411096"
     },
     "user_tz": -330
    },
    "id": "ca5950a7",
    "outputId": "381fc9c5-6690-497a-d106-da59b20b1503",
    "papermill": {
     "duration": 0.199721,
     "end_time": "2023-06-14T08:54:32.272280",
     "exception": false,
     "start_time": "2023-06-14T08:54:32.072559",
     "status": "completed"
    },
    "tags": []
   },
   "outputs": [
    {
     "name": "stdout",
     "output_type": "stream",
     "text": [
      "Balancing the data by SMOTE - Oversampling of Minority level\n",
      "\n",
      "Before SMOTE Counter({0: 1478, 1: 979})\n",
      "\n",
      "After SMOTE Counter({0: 1478, 1: 1478})\n"
     ]
    }
   ],
   "source": [
    "from imblearn.over_sampling import SMOTE\n",
    "from collections import Counter\n",
    "##################### Preparing the Data for Modelling ######################\n",
    "\n",
    "X = dataset.drop('Potability', axis = 1).copy()\n",
    "y = dataset['Potability'].copy()\n",
    "\n",
    "############################# Train-Test split ############################\n",
    "X_train, X_test, y_train, y_test = train_test_split(X,y,test_size=0.25)\n",
    "\n",
    "########################## Synthetic OverSampling ###########################\n",
    "print('Balancing the data by SMOTE - Oversampling of Minority level\\n')\n",
    "smt = SMOTE()\n",
    "counter = Counter(y_train)\n",
    "print('Before SMOTE', counter)\n",
    "X_train, y_train = smt.fit_resample(X_train, y_train)\n",
    "counter = Counter(y_train)\n",
    "print('\\nAfter SMOTE', counter)\n",
    "\n",
    "################################# Scaling #################################\n",
    "ssc = StandardScaler()\n",
    "\n",
    "X_train = ssc.fit_transform(X_train)\n",
    "X_test = ssc.transform(X_test)\n",
    "\n",
    "modelAccuracy = list()"
   ]
  },
  {
   "cell_type": "code",
   "execution_count": null,
   "id": "X9rrZhzPZSrp",
   "metadata": {
    "colab": {
     "base_uri": "https://localhost:8080/"
    },
    "executionInfo": {
     "elapsed": 424,
     "status": "ok",
     "timestamp": 1698297105217,
     "user": {
      "displayName": "Priyanka Israni",
      "userId": "07224247261387411096"
     },
     "user_tz": -330
    },
    "id": "X9rrZhzPZSrp",
    "outputId": "4537bbad-b98d-415f-f682-58e981571734"
   },
   "outputs": [
    {
     "data": {
      "text/plain": [
       "(2996, 9)"
      ]
     },
     "execution_count": 56,
     "metadata": {},
     "output_type": "execute_result"
    }
   ],
   "source": [
    "X_train. shape"
   ]
  },
  {
   "cell_type": "code",
   "execution_count": null,
   "id": "uvLQ9Jv8ZVpT",
   "metadata": {
    "colab": {
     "base_uri": "https://localhost:8080/"
    },
    "executionInfo": {
     "elapsed": 716,
     "status": "ok",
     "timestamp": 1698297117106,
     "user": {
      "displayName": "Priyanka Israni",
      "userId": "07224247261387411096"
     },
     "user_tz": -330
    },
    "id": "uvLQ9Jv8ZVpT",
    "outputId": "62d2dea8-9b36-4bc7-a948-847bcc2946d1"
   },
   "outputs": [
    {
     "data": {
      "text/plain": [
       "(2996,)"
      ]
     },
     "execution_count": 57,
     "metadata": {},
     "output_type": "execute_result"
    }
   ],
   "source": [
    "y_train.shape"
   ]
  },
  {
   "cell_type": "code",
   "execution_count": null,
   "id": "cQR6JQpWfIWo",
   "metadata": {
    "id": "cQR6JQpWfIWo"
   },
   "outputs": [],
   "source": [
    "from sklearn.metrics import roc_curve, roc_auc_score"
   ]
  },
  {
   "cell_type": "code",
   "execution_count": null,
   "id": "xxKssMRHZ0ON",
   "metadata": {
    "colab": {
     "base_uri": "https://localhost:8080/",
     "height": 657
    },
    "executionInfo": {
     "elapsed": 1677,
     "status": "ok",
     "timestamp": 1698298655293,
     "user": {
      "displayName": "Priyanka Israni",
      "userId": "07224247261387411096"
     },
     "user_tz": -330
    },
    "id": "xxKssMRHZ0ON",
    "outputId": "4eb0120c-efa8-48d7-f54e-d198458c10bb"
   },
   "outputs": [
    {
     "name": "stdout",
     "output_type": "stream",
     "text": [
      "Decision tree Classifier\n",
      "\n",
      "              precision    recall  f1-score   support\n",
      "\n",
      "           0       0.79      0.72      0.75       500\n",
      "           1       0.61      0.70      0.65       319\n",
      "\n",
      "    accuracy                           0.71       819\n",
      "   macro avg       0.70      0.71      0.70       819\n",
      "weighted avg       0.72      0.71      0.71       819\n",
      "\n",
      "None\n"
     ]
    },
    {
     "data": {
      "image/png": "[encoded data removed]",
      "text/plain": [
       "<Figure size 640x480 with 2 Axes>"
      ]
     },
     "metadata": {},
     "output_type": "display_data"
    }
   ],
   "source": [
    "print('Decision tree Classifier\\n')\n",
    "DT = DecisionTreeClassifier()\n",
    "DT.fit(X_train, y_train)\n",
    "\n",
    "y_dt = DT.predict(X_test)\n",
    "print(metrics.classification_report(y_test, y_dt))\n",
    "print(modelAccuracy.append(metrics.accuracy_score(y_test, y_dt)))\n",
    "fpr_dt, tpr_dt, _ = roc_curve(y_test, y_dt)\n",
    "auc_dt = roc_auc_score(y_test, y_dt)\n",
    "\n",
    "sns.heatmap(confusion_matrix(y_test, y_dt), annot=True, fmt='d')\n",
    "plt.show()"
   ]
  },
  {
   "cell_type": "code",
   "execution_count": null,
   "id": "b44ca203",
   "metadata": {
    "colab": {
     "base_uri": "https://localhost:8080/",
     "height": 657
    },
    "execution": {
     "iopub.execute_input": "2023-06-14T08:54:59.490208Z",
     "iopub.status.busy": "2023-06-14T08:54:59.489643Z",
     "iopub.status.idle": "2023-06-14T08:55:00.440355Z",
     "shell.execute_reply": "2023-06-14T08:55:00.439334Z"
    },
    "executionInfo": {
     "elapsed": 1610,
     "status": "ok",
     "timestamp": 1698298688406,
     "user": {
      "displayName": "Priyanka Israni",
      "userId": "07224247261387411096"
     },
     "user_tz": -330
    },
    "id": "b44ca203",
    "outputId": "51084412-edc8-41cf-9603-9e772294def5",
    "papermill": {
     "duration": 1.011133,
     "end_time": "2023-06-14T08:55:00.442522",
     "exception": false,
     "start_time": "2023-06-14T08:54:59.431389",
     "status": "completed"
    },
    "tags": []
   },
   "outputs": [
    {
     "name": "stdout",
     "output_type": "stream",
     "text": [
      "Random Forest Classifier\n",
      "\n",
      "              precision    recall  f1-score   support\n",
      "\n",
      "           0       0.82      0.75      0.78       500\n",
      "           1       0.65      0.74      0.69       319\n",
      "\n",
      "    accuracy                           0.74       819\n",
      "   macro avg       0.73      0.74      0.74       819\n",
      "weighted avg       0.75      0.74      0.75       819\n",
      "\n",
      "None\n"
     ]
    },
    {
     "data": {
      "image/png": "[encoded data removed]",
      "text/plain": [
       "<Figure size 640x480 with 2 Axes>"
      ]
     },
     "metadata": {},
     "output_type": "display_data"
    }
   ],
   "source": [
    "print('Random Forest Classifier\\n')\n",
    "Rfc = RandomForestClassifier()\n",
    "Rfc.fit(X_train, y_train)\n",
    "\n",
    "y_Rfc = Rfc.predict(X_test)\n",
    "print(metrics.classification_report(y_test, y_Rfc))\n",
    "print(modelAccuracy.append(metrics.accuracy_score(y_test, y_Rfc)))\n",
    "fpr_rf, tpr_rf, _ = roc_curve(y_test, y_Rfc)\n",
    "auc_rf = roc_auc_score(y_test, y_Rfc)\n",
    "sns.heatmap(confusion_matrix(y_test, y_Rfc), annot=True, fmt='d')\n",
    "plt.show()"
   ]
  },
  {
   "cell_type": "code",
   "execution_count": null,
   "id": "551dc2c9",
   "metadata": {
    "colab": {
     "base_uri": "https://localhost:8080/",
     "height": 657
    },
    "execution": {
     "iopub.execute_input": "2023-06-14T08:55:00.558596Z",
     "iopub.status.busy": "2023-06-14T08:55:00.558047Z",
     "iopub.status.idle": "2023-06-14T08:55:01.244918Z",
     "shell.execute_reply": "2023-06-14T08:55:01.243930Z"
    },
    "executionInfo": {
     "elapsed": 3367,
     "status": "ok",
     "timestamp": 1698298792862,
     "user": {
      "displayName": "Priyanka Israni",
      "userId": "07224247261387411096"
     },
     "user_tz": -330
    },
    "id": "551dc2c9",
    "outputId": "960b5f47-6ff9-42fa-8992-4d580732fe70",
    "papermill": {
     "duration": 0.746871,
     "end_time": "2023-06-14T08:55:01.246689",
     "exception": false,
     "start_time": "2023-06-14T08:55:00.499818",
     "status": "completed"
    },
    "tags": []
   },
   "outputs": [
    {
     "name": "stdout",
     "output_type": "stream",
     "text": [
      "XGB Classifier\n",
      "\n",
      "              precision    recall  f1-score   support\n",
      "\n",
      "           0       0.83      0.72      0.77       500\n",
      "           1       0.64      0.77      0.70       319\n",
      "\n",
      "    accuracy                           0.74       819\n",
      "   macro avg       0.73      0.75      0.73       819\n",
      "weighted avg       0.76      0.74      0.74       819\n",
      "\n",
      "None\n"
     ]
    },
    {
     "data": {
      "image/png": "[encoded data removed]",
      "text/plain": [
       "<Figure size 640x480 with 2 Axes>"
      ]
     },
     "metadata": {},
     "output_type": "display_data"
    }
   ],
   "source": [
    "#################################### XGB Classifier() #######################\n",
    "print('XGB Classifier\\n')\n",
    "xgb = XGBClassifier()\n",
    "xgb.fit(X_train, y_train)\n",
    "\n",
    "y_xgb = xgb.predict(X_test)\n",
    "print(metrics.classification_report(y_test, y_xgb))\n",
    "print(modelAccuracy.append(metrics.accuracy_score(y_test, y_xgb)))\n",
    "fpr_xgb, tpr_xgb, _= roc_curve(y_test, y_xgb)\n",
    "auc_xgb = roc_auc_score(y_test, y_xgb)\n",
    "sns.heatmap(confusion_matrix(y_test, y_xgb), annot=True, fmt='d')\n",
    "plt.show()"
   ]
  },
  {
   "cell_type": "code",
   "execution_count": null,
   "id": "kHbpVk01aa2v",
   "metadata": {
    "colab": {
     "base_uri": "https://localhost:8080/",
     "height": 970,
     "referenced_widgets": [
      "ae524ca0be4147f5878a2695340dba92"
     ]
    },
    "executionInfo": {
     "elapsed": 13097,
     "status": "ok",
     "timestamp": 1698298829917,
     "user": {
      "displayName": "Priyanka Israni",
      "userId": "07224247261387411096"
     },
     "user_tz": -330
    },
    "id": "kHbpVk01aa2v",
    "outputId": "7c5eb7dc-f33f-46a6-cd13-bc83c5fb8538"
   },
   "outputs": [
    {
     "name": "stdout",
     "output_type": "stream",
     "text": [
      "Catboost Classifier\n",
      "\n",
      "Requirement already satisfied: catboost in /usr/local/lib/python3.10/dist-packages (1.2.2)\n",
      "Requirement already satisfied: graphviz in /usr/local/lib/python3.10/dist-packages (from catboost) (0.20.1)\n",
      "Requirement already satisfied: matplotlib in /usr/local/lib/python3.10/dist-packages (from catboost) (3.7.1)\n",
      "Requirement already satisfied: numpy>=1.16.0 in /usr/local/lib/python3.10/dist-packages (from catboost) (1.23.5)\n",
      "Requirement already satisfied: pandas>=0.24 in /usr/local/lib/python3.10/dist-packages (from catboost) (1.5.3)\n",
      "Requirement already satisfied: scipy in /usr/local/lib/python3.10/dist-packages (from catboost) (1.11.3)\n",
      "Requirement already satisfied: plotly in /usr/local/lib/python3.10/dist-packages (from catboost) (5.15.0)\n",
      "Requirement already satisfied: six in /usr/local/lib/python3.10/dist-packages (from catboost) (1.16.0)\n",
      "Requirement already satisfied: python-dateutil>=2.8.1 in /usr/local/lib/python3.10/dist-packages (from pandas>=0.24->catboost) (2.8.2)\n",
      "Requirement already satisfied: pytz>=2020.1 in /usr/local/lib/python3.10/dist-packages (from pandas>=0.24->catboost) (2023.3.post1)\n",
      "Requirement already satisfied: contourpy>=1.0.1 in /usr/local/lib/python3.10/dist-packages (from matplotlib->catboost) (1.1.1)\n",
      "Requirement already satisfied: cycler>=0.10 in /usr/local/lib/python3.10/dist-packages (from matplotlib->catboost) (0.12.1)\n",
      "Requirement already satisfied: fonttools>=4.22.0 in /usr/local/lib/python3.10/dist-packages (from matplotlib->catboost) (4.43.1)\n",
      "Requirement already satisfied: kiwisolver>=1.0.1 in /usr/local/lib/python3.10/dist-packages (from matplotlib->catboost) (1.4.5)\n",
      "Requirement already satisfied: packaging>=20.0 in /usr/local/lib/python3.10/dist-packages (from matplotlib->catboost) (23.2)\n",
      "Requirement already satisfied: pillow>=6.2.0 in /usr/local/lib/python3.10/dist-packages (from matplotlib->catboost) (9.4.0)\n",
      "Requirement already satisfied: pyparsing>=2.3.1 in /usr/local/lib/python3.10/dist-packages (from matplotlib->catboost) (3.1.1)\n",
      "Requirement already satisfied: tenacity>=6.2.0 in /usr/local/lib/python3.10/dist-packages (from plotly->catboost) (8.2.3)\n"
     ]
    },
    {
     "data": {
      "application/vnd.jupyter.widget-view+json": {
       "model_id": "ae524ca0be4147f5878a2695340dba92",
       "version_major": 2,
       "version_minor": 0
      },
      "text/plain": [
       "MetricVisualizer(layout=Layout(align_self='stretch', height='500px'))"
      ]
     },
     "metadata": {},
     "output_type": "display_data"
    },
    {
     "name": "stdout",
     "output_type": "stream",
     "text": [
      "              precision    recall  f1-score   support\n",
      "\n",
      "           0       0.83      0.75      0.79       500\n",
      "           1       0.66      0.76      0.71       319\n",
      "\n",
      "    accuracy                           0.75       819\n",
      "   macro avg       0.74      0.75      0.75       819\n",
      "weighted avg       0.76      0.75      0.76       819\n",
      "\n",
      "None\n"
     ]
    },
    {
     "data": {
      "image/png": "[encoded data removed]",
      "text/plain": [
       "<Figure size 640x480 with 2 Axes>"
      ]
     },
     "metadata": {},
     "output_type": "display_data"
    }
   ],
   "source": [
    "#################################### catboost Classifier() #######################\n",
    "print('Catboost Classifier\\n')\n",
    "\n",
    "!pip install catboost\n",
    "from catboost import CatBoostClassifier\n",
    "catb = CatBoostClassifier(iterations=500, learning_rate=0.1, depth=6, loss_function='Logloss')\n",
    "\n",
    "# Fit the model\n",
    "catb.fit(X_train, y_train, eval_set=(X_test, y_test), verbose=False, plot=True)\n",
    "\n",
    "y_cat = catb.predict(X_test)\n",
    "print(metrics.classification_report(y_test, y_cat))\n",
    "print(modelAccuracy.append(metrics.accuracy_score(y_test, y_cat)))\n",
    "fpr_cat, tpr_cat, _ = roc_curve(y_test, y_cat)\n",
    "auc_cat = roc_auc_score(y_test, y_cat)\n",
    "sns.heatmap(confusion_matrix(y_test, y_cat), annot=True, fmt='d')\n",
    "plt.show()"
   ]
  },
  {
   "cell_type": "code",
   "execution_count": null,
   "id": "cmjbQfZHccds",
   "metadata": {
    "colab": {
     "base_uri": "https://localhost:8080/",
     "height": 657
    },
    "executionInfo": {
     "elapsed": 1697,
     "status": "ok",
     "timestamp": 1698300008425,
     "user": {
      "displayName": "Priyanka Israni",
      "userId": "07224247261387411096"
     },
     "user_tz": -330
    },
    "id": "cmjbQfZHccds",
    "outputId": "31533f03-6e87-4e43-a195-8d1d5bb092c8"
   },
   "outputs": [
    {
     "name": "stdout",
     "output_type": "stream",
     "text": [
      "Adaboost Classifier\n",
      "\n",
      "              precision    recall  f1-score   support\n",
      "\n",
      "           0       0.78      0.69      0.73       500\n",
      "           1       0.59      0.69      0.63       319\n",
      "\n",
      "    accuracy                           0.69       819\n",
      "   macro avg       0.68      0.69      0.68       819\n",
      "weighted avg       0.70      0.69      0.69       819\n",
      "\n",
      "None\n"
     ]
    },
    {
     "data": {
      "image/png": "[encoded data removed]",
      "text/plain": [
       "<Figure size 640x480 with 2 Axes>"
      ]
     },
     "metadata": {},
     "output_type": "display_data"
    }
   ],
   "source": [
    "\n",
    "#################################### Adaboost Classifier() #######################\n",
    "print('Adaboost Classifier\\n')\n",
    "\n",
    "\n",
    "ada= AdaBoostClassifier(n_estimators=50, random_state=42)\n",
    "\n",
    "# Fit the model\n",
    "ada.fit(X_train, y_train)\n",
    "\n",
    "y_ada = ada.predict(X_test)\n",
    "print(metrics.classification_report(y_test, y_ada))\n",
    "print(modelAccuracy.append(metrics.accuracy_score(y_test, y_ada)))\n",
    "fpr_ada, tpr_ada, _ = roc_curve(y_test, y_ada)\n",
    "auc_ada = roc_auc_score(y_test, y_ada)\n",
    "sns.heatmap(confusion_matrix(y_test, y_ada), annot=True, fmt='d')\n",
    "plt.show()"
   ]
  },
  {
   "cell_type": "code",
   "execution_count": null,
   "id": "1z8pC0RwcUVo",
   "metadata": {
    "colab": {
     "base_uri": "https://localhost:8080/",
     "height": 767
    },
    "executionInfo": {
     "elapsed": 2134,
     "status": "ok",
     "timestamp": 1698299035869,
     "user": {
      "displayName": "Priyanka Israni",
      "userId": "07224247261387411096"
     },
     "user_tz": -330
    },
    "id": "1z8pC0RwcUVo",
    "outputId": "6acbd62b-56cd-4c42-8172-806bc41179f4"
   },
   "outputs": [
    {
     "data": {
      "image/png": "[encoded data removed]",
      "text/plain": [
       "<Figure size 1000x800 with 1 Axes>"
      ]
     },
     "metadata": {},
     "output_type": "display_data"
    }
   ],
   "source": [
    "import matplotlib.pyplot as plt\n",
    "plt.figure(figsize=(10, 8))\n",
    "plt.plot(fpr_dt, tpr_dt, label=f'Decision Tree (AUC = {auc_dt:.2f})')\n",
    "plt.plot(fpr_rf, tpr_rf, label=f'Random Forest (AUC = {auc_rf:.2f})')\n",
    "plt.plot(fpr_xgb, tpr_xgb, label=f'XGBoost (AUC = {auc_xgb:.2f})')\n",
    "plt.plot(fpr_cat, tpr_cat, label=f'CatBoost (AUC = {auc_cat:.2f})')\n",
    "plt.plot(fpr_ada, tpr_ada, label=f'AdaBoost (AUC = {auc_ada:.2f})')\n",
    "# Plot ROC curve for random guessing\n",
    "plt.plot([0, 1], [0, 1], linestyle='--', color='r', label='Random Guessing')\n",
    "\n",
    "# Set labels and title\n",
    "plt.xlabel('False Positive Rate')\n",
    "plt.ylabel('True Positive Rate')\n",
    "plt.title('ROC Curve Comparison for Different Models')\n",
    "plt.legend(loc='lower right')\n",
    "plt.show()\n",
    "\n",
    "\n",
    "\n",
    "\n",
    "\n"
   ]
  }
 ],
 "metadata": {
  "accelerator": "GPU",
  "colab": {
   "gpuType": "T4",
   "provenance": []
  },
  "kernelspec": {
   "display_name": "Python 3 (ipykernel)",
   "language": "python",
   "name": "python3"
  },
  "language_info": {
   "codemirror_mode": {
    "name": "ipython",
    "version": 3
   },
   "file_extension": ".py",
   "mimetype": "text/x-python",
   "name": "python",
   "nbconvert_exporter": "python",
   "pygments_lexer": "ipython3",
   "version": "3.9.13"
  },
  "papermill": {
   "default_parameters": {},
   "duration": 87.555301,
   "end_time": "2023-06-14T08:55:02.945797",
   "environment_variables": {},
   "exception": null,
   "input_path": "__notebook__.ipynb",
   "output_path": "__notebook__.ipynb",
   "parameters": {},
   "start_time": "2023-06-14T08:53:35.390496",
   "version": "2.3.4"
  },
  "widgets": {
   "application/vnd.jupyter.widget-state+json": {
    "ae524ca0be4147f5878a2695340dba92": {
     "model_module": "catboost-widget",
     "model_module_version": "^1.0.0",
     "model_name": "CatboostWidgetModel",
     "state": {
      "_dom_classes": [],
      "_model_module": "catboost-widget",
      "_model_module_version": "^1.0.0",
      "_model_name": "CatboostWidgetModel",
      "_view_count": null,
      "_view_module": "catboost-widget",
      "_view_module_version": "^1.0.0",
      "_view_name": "CatboostWidgetView",
      "data": {
       "catboost_info": {
        "content": {
         "data": {
          "iterations": [
           {
            "iteration": 0,
            "learn": [
             0.6642266186
            ],
            "passed_time": 0.02816484125,
            "remaining_time": 14.05425578,
            "test": [
             0.6652055622
            ]
           },
           {
            "iteration": 1,
            "learn": [
             0.6387531194
            ],
            "passed_time": 0.0357763886,
            "remaining_time": 8.908320763,
            "test": [
             0.6397693714
            ]
           },
           {
            "iteration": 2,
            "learn": [
             0.6128035623
            ],
            "passed_time": 0.04688921175,
            "remaining_time": 7.767979413,
            "test": [
             0.6155045024
            ]
           },
           {
            "iteration": 3,
            "learn": [
             0.5908353879
            ],
            "passed_time": 0.06650063659,
            "remaining_time": 8.246078937,
            "test": [
             0.5944197718
            ]
           },
           {
            "iteration": 4,
            "learn": [
             0.5689280858
            ],
            "passed_time": 0.07607749908,
            "remaining_time": 7.531672409,
            "test": [
             0.572289529
            ]
           },
           {
            "iteration": 5,
            "learn": [
             0.5564047147
            ],
            "passed_time": 0.09219008218,
            "remaining_time": 7.590316766,
            "test": [
             0.561691938
            ]
           },
           {
            "iteration": 6,
            "learn": [
             0.5474556896
            ],
            "passed_time": 0.09794968784,
            "remaining_time": 6.898456587,
            "test": [
             0.5530140423
            ]
           },
           {
            "iteration": 7,
            "learn": [
             0.5420987342
            ],
            "passed_time": 0.1031529634,
            "remaining_time": 6.343907249,
            "test": [
             0.5514284397
            ]
           },
           {
            "iteration": 8,
            "learn": [
             0.5383836163
            ],
            "passed_time": 0.1096504835,
            "remaining_time": 5.982043045,
            "test": [
             0.5508102597
            ]
           },
           {
            "iteration": 9,
            "learn": [
             0.5226430651
            ],
            "passed_time": 0.1197128762,
            "remaining_time": 5.865930934,
            "test": [
             0.5368672364
            ]
           },
           {
            "iteration": 10,
            "learn": [
             0.5148889519
            ],
            "passed_time": 0.136894185,
            "remaining_time": 6.085568768,
            "test": [
             0.5311761988
            ]
           },
           {
            "iteration": 11,
            "learn": [
             0.5039490317
            ],
            "passed_time": 0.1485694113,
            "remaining_time": 6.041822726,
            "test": [
             0.5241687117
            ]
           },
           {
            "iteration": 12,
            "learn": [
             0.4994082279
            ],
            "passed_time": 0.1596213787,
            "remaining_time": 5.979662416,
            "test": [
             0.5233781029
            ]
           },
           {
            "iteration": 13,
            "learn": [
             0.4981324383
            ],
            "passed_time": 0.1708611374,
            "remaining_time": 5.931322342,
            "test": [
             0.5222501954
            ]
           },
           {
            "iteration": 14,
            "learn": [
             0.4937181867
            ],
            "passed_time": 0.1781623208,
            "remaining_time": 5.760581707,
            "test": [
             0.521349021
            ]
           },
           {
            "iteration": 15,
            "learn": [
             0.4903790177
            ],
            "passed_time": 0.1880762946,
            "remaining_time": 5.689307912,
            "test": [
             0.5205667712
            ]
           },
           {
            "iteration": 16,
            "learn": [
             0.4859897018
            ],
            "passed_time": 0.20006794,
            "remaining_time": 5.684283237,
            "test": [
             0.5195501797
            ]
           },
           {
            "iteration": 17,
            "learn": [
             0.4813999232
            ],
            "passed_time": 0.2134607633,
            "remaining_time": 5.716004884,
            "test": [
             0.5157423792
            ]
           },
           {
            "iteration": 18,
            "learn": [
             0.4779826879
            ],
            "passed_time": 0.2252032775,
            "remaining_time": 5.701198762,
            "test": [
             0.5165886032
            ]
           },
           {
            "iteration": 19,
            "learn": [
             0.476233611
            ],
            "passed_time": 0.2371188099,
            "remaining_time": 5.690851438,
            "test": [
             0.5182496816
            ]
           },
           {
            "iteration": 20,
            "learn": [
             0.4725948074
            ],
            "passed_time": 0.2566960663,
            "remaining_time": 5.855115037,
            "test": [
             0.5165954112
            ]
           },
           {
            "iteration": 21,
            "learn": [
             0.4699380261
            ],
            "passed_time": 0.2640003287,
            "remaining_time": 5.736007143,
            "test": [
             0.515205391
            ]
           },
           {
            "iteration": 22,
            "learn": [
             0.4645353962
            ],
            "passed_time": 0.2704178108,
            "remaining_time": 5.608230251,
            "test": [
             0.510676311
            ]
           },
           {
            "iteration": 23,
            "learn": [
             0.4603701338
            ],
            "passed_time": 0.2844994229,
            "remaining_time": 5.642571888,
            "test": [
             0.509762
            ]
           },
           {
            "iteration": 24,
            "learn": [
             0.4583996109
            ],
            "passed_time": 0.2953542268,
            "remaining_time": 5.611730309,
            "test": [
             0.5106415544
            ]
           },
           {
            "iteration": 25,
            "learn": [
             0.4503103748
            ],
            "passed_time": 0.3090135175,
            "remaining_time": 5.633554127,
            "test": [
             0.5032488609
            ]
           },
           {
            "iteration": 26,
            "learn": [
             0.4480805951
            ],
            "passed_time": 0.3253105269,
            "remaining_time": 5.698958491,
            "test": [
             0.5031360585
            ]
           },
           {
            "iteration": 27,
            "learn": [
             0.4433490259
            ],
            "passed_time": 0.3447256193,
            "remaining_time": 5.811089011,
            "test": [
             0.4994726086
            ]
           },
           {
            "iteration": 28,
            "learn": [
             0.4410610632
            ],
            "passed_time": 0.363152246,
            "remaining_time": 5.898093374,
            "test": [
             0.4991535582
            ]
           },
           {
            "iteration": 29,
            "learn": [
             0.4393471895
            ],
            "passed_time": 0.3688042083,
            "remaining_time": 5.777932596,
            "test": [
             0.4988670133
            ]
           },
           {
            "iteration": 30,
            "learn": [
             0.4361609343
            ],
            "passed_time": 0.3773230362,
            "remaining_time": 5.708532387,
            "test": [
             0.4987829068
            ]
           },
           {
            "iteration": 31,
            "learn": [
             0.4345281828
            ],
            "passed_time": 0.3850584292,
            "remaining_time": 5.631479527,
            "test": [
             0.4996933843
            ]
           },
           {
            "iteration": 32,
            "learn": [
             0.4327932849
            ],
            "passed_time": 0.3889867714,
            "remaining_time": 5.504752189,
            "test": [
             0.5006028987
            ]
           },
           {
            "iteration": 33,
            "learn": [
             0.4314929672
            ],
            "passed_time": 0.392866573,
            "remaining_time": 5.38458303,
            "test": [
             0.5007402832
            ]
           },
           {
            "iteration": 34,
            "learn": [
             0.4291649527
            ],
            "passed_time": 0.3972869996,
            "remaining_time": 5.278241566,
            "test": [
             0.4990818837
            ]
           },
           {
            "iteration": 35,
            "learn": [
             0.4273908995
            ],
            "passed_time": 0.4023864548,
            "remaining_time": 5.186314306,
            "test": [
             0.4983993692
            ]
           },
           {
            "iteration": 36,
            "learn": [
             0.425658487
            ],
            "passed_time": 0.410379224,
            "remaining_time": 5.135285966,
            "test": [
             0.4988810332
            ]
           },
           {
            "iteration": 37,
            "learn": [
             0.4216634957
            ],
            "passed_time": 0.4177547114,
            "remaining_time": 5.079017807,
            "test": [
             0.4947116004
            ]
           },
           {
            "iteration": 38,
            "learn": [
             0.4198684591
            ],
            "passed_time": 0.4358963974,
            "remaining_time": 5.152518954,
            "test": [
             0.4946452081
            ]
           },
           {
            "iteration": 39,
            "learn": [
             0.4186956306
            ],
            "passed_time": 0.4448152715,
            "remaining_time": 5.115375622,
            "test": [
             0.4948060549
            ]
           },
           {
            "iteration": 40,
            "learn": [
             0.4174919587
            ],
            "passed_time": 0.4573829042,
            "remaining_time": 5.120457391,
            "test": [
             0.495036582
            ]
           },
           {
            "iteration": 41,
            "learn": [
             0.4154473217
            ],
            "passed_time": 0.4734400016,
            "remaining_time": 5.162750494,
            "test": [
             0.494802259
            ]
           },
           {
            "iteration": 42,
            "learn": [
             0.413493993
            ],
            "passed_time": 0.4803807744,
            "remaining_time": 5.105442184,
            "test": [
             0.4947204639
            ]
           },
           {
            "iteration": 43,
            "learn": [
             0.4110743442
            ],
            "passed_time": 0.4913908002,
            "remaining_time": 5.092595566,
            "test": [
             0.4951323127
            ]
           },
           {
            "iteration": 44,
            "learn": [
             0.4095556771
            ],
            "passed_time": 0.5095275982,
            "remaining_time": 5.15189016,
            "test": [
             0.4940755897
            ]
           },
           {
            "iteration": 45,
            "learn": [
             0.4083585243
            ],
            "passed_time": 0.5327064077,
            "remaining_time": 5.257580632,
            "test": [
             0.4936216687
            ]
           },
           {
            "iteration": 46,
            "learn": [
             0.4066043136
            ],
            "passed_time": 0.5455747223,
            "remaining_time": 5.258411685,
            "test": [
             0.4951500684
            ]
           },
           {
            "iteration": 47,
            "learn": [
             0.4045866086
            ],
            "passed_time": 0.5520252068,
            "remaining_time": 5.198237364,
            "test": [
             0.4954183001
            ]
           },
           {
            "iteration": 48,
            "learn": [
             0.4026520224
            ],
            "passed_time": 0.5622413115,
            "remaining_time": 5.174914928,
            "test": [
             0.4954444508
            ]
           },
           {
            "iteration": 49,
            "learn": [
             0.4009903015
            ],
            "passed_time": 0.5729268251,
            "remaining_time": 5.156341426,
            "test": [
             0.4951754934
            ]
           },
           {
            "iteration": 50,
            "learn": [
             0.3949507547
            ],
            "passed_time": 0.582297146,
            "remaining_time": 5.126498403,
            "test": [
             0.4887352388
            ]
           },
           {
            "iteration": 51,
            "learn": [
             0.3921552793
            ],
            "passed_time": 0.5931795252,
            "remaining_time": 5.110469755,
            "test": [
             0.4861033948
            ]
           },
           {
            "iteration": 52,
            "learn": [
             0.3905627425
            ],
            "passed_time": 0.6112552094,
            "remaining_time": 5.15530337,
            "test": [
             0.4860919559
            ]
           },
           {
            "iteration": 53,
            "learn": [
             0.389021503
            ],
            "passed_time": 0.6172072955,
            "remaining_time": 5.09767507,
            "test": [
             0.4867825032
            ]
           },
           {
            "iteration": 54,
            "learn": [
             0.3878010036
            ],
            "passed_time": 0.6274329563,
            "remaining_time": 5.07650301,
            "test": [
             0.4859817088
            ]
           },
           {
            "iteration": 55,
            "learn": [
             0.3861654406
            ],
            "passed_time": 0.6410468924,
            "remaining_time": 5.082586076,
            "test": [
             0.486127543
            ]
           },
           {
            "iteration": 56,
            "learn": [
             0.3837710942
            ],
            "passed_time": 0.6526793282,
            "remaining_time": 5.072577937,
            "test": [
             0.4837936796
            ]
           },
           {
            "iteration": 57,
            "learn": [
             0.3822484341
            ],
            "passed_time": 0.6716785292,
            "remaining_time": 5.118653619,
            "test": [
             0.4836364539
            ]
           },
           {
            "iteration": 58,
            "learn": [
             0.3815275837
            ],
            "passed_time": 0.6815544396,
            "remaining_time": 5.094330641,
            "test": [
             0.4838283817
            ]
           },
           {
            "iteration": 59,
            "learn": [
             0.3793324775
            ],
            "passed_time": 0.7033170589,
            "remaining_time": 5.157658432,
            "test": [
             0.4844141616
            ]
           },
           {
            "iteration": 60,
            "learn": [
             0.3778182922
            ],
            "passed_time": 0.7093731834,
            "remaining_time": 5.105161107,
            "test": [
             0.4840679501
            ]
           },
           {
            "iteration": 61,
            "learn": [
             0.3769585848
            ],
            "passed_time": 0.7193178886,
            "remaining_time": 5.081632826,
            "test": [
             0.4846427857
            ]
           },
           {
            "iteration": 62,
            "learn": [
             0.3736426808
            ],
            "passed_time": 0.7358202197,
            "remaining_time": 5.104022793,
            "test": [
             0.4816256529
            ]
           },
           {
            "iteration": 63,
            "learn": [
             0.3721273547
            ],
            "passed_time": 0.7522367856,
            "remaining_time": 5.124613102,
            "test": [
             0.4817861574
            ]
           },
           {
            "iteration": 64,
            "learn": [
             0.3702445138
            ],
            "passed_time": 0.7581174749,
            "remaining_time": 5.073555409,
            "test": [
             0.4808708045
            ]
           },
           {
            "iteration": 65,
            "learn": [
             0.3686012502
            ],
            "passed_time": 0.776891591,
            "remaining_time": 5.108650765,
            "test": [
             0.4800364058
            ]
           },
           {
            "iteration": 66,
            "learn": [
             0.365880052
            ],
            "passed_time": 0.7894639178,
            "remaining_time": 5.102057857,
            "test": [
             0.4785949502
            ]
           },
           {
            "iteration": 67,
            "learn": [
             0.3652853463
            ],
            "passed_time": 0.7980757379,
            "remaining_time": 5.070128218,
            "test": [
             0.4785978734
            ]
           },
           {
            "iteration": 68,
            "learn": [
             0.3639914662
            ],
            "passed_time": 0.8041063431,
            "remaining_time": 5.022751215,
            "test": [
             0.477575089
            ]
           },
           {
            "iteration": 69,
            "learn": [
             0.3632998702
            ],
            "passed_time": 0.8190793046,
            "remaining_time": 5.031487157,
            "test": [
             0.478144223
            ]
           },
           {
            "iteration": 70,
            "learn": [
             0.3621872621
            ],
            "passed_time": 0.8343961635,
            "remaining_time": 5.041633157,
            "test": [
             0.4775846425
            ]
           },
           {
            "iteration": 71,
            "learn": [
             0.360618683
            ],
            "passed_time": 0.856479262,
            "remaining_time": 5.091293391,
            "test": [
             0.4780311155
            ]
           },
           {
            "iteration": 72,
            "learn": [
             0.3596001945
            ],
            "passed_time": 0.8663931558,
            "remaining_time": 5.067806541,
            "test": [
             0.478221337
            ]
           },
           {
            "iteration": 73,
            "learn": [
             0.3584196653
            ],
            "passed_time": 0.8849959217,
            "remaining_time": 5.094706252,
            "test": [
             0.4775863918
            ]
           },
           {
            "iteration": 74,
            "learn": [
             0.356218692
            ],
            "passed_time": 0.8914532693,
            "remaining_time": 5.051568526,
            "test": [
             0.477123266
            ]
           },
           {
            "iteration": 75,
            "learn": [
             0.3552595274
            ],
            "passed_time": 0.9021078566,
            "remaining_time": 5.032812253,
            "test": [
             0.4775155205
            ]
           },
           {
            "iteration": 76,
            "learn": [
             0.3541988683
            ],
            "passed_time": 0.91324312,
            "remaining_time": 5.01690701,
            "test": [
             0.4785700944
            ]
           },
           {
            "iteration": 77,
            "learn": [
             0.3522000688
            ],
            "passed_time": 0.9244921619,
            "remaining_time": 5.001739645,
            "test": [
             0.4785508718
            ]
           },
           {
            "iteration": 78,
            "learn": [
             0.3500646533
            ],
            "passed_time": 0.9397081925,
            "remaining_time": 5.007812013,
            "test": [
             0.4770123001
            ]
           },
           {
            "iteration": 79,
            "learn": [
             0.3492303703
            ],
            "passed_time": 0.9529632551,
            "remaining_time": 5.003057089,
            "test": [
             0.4774786121
            ]
           },
           {
            "iteration": 80,
            "learn": [
             0.3474658105
            ],
            "passed_time": 0.9642360083,
            "remaining_time": 4.987838117,
            "test": [
             0.4770269805
            ]
           },
           {
            "iteration": 81,
            "learn": [
             0.3459391982
            ],
            "passed_time": 0.980008477,
            "remaining_time": 4.995652968,
            "test": [
             0.4766012277
            ]
           },
           {
            "iteration": 82,
            "learn": [
             0.3451771144
            ],
            "passed_time": 0.9956587922,
            "remaining_time": 5.002285739,
            "test": [
             0.4770020237
            ]
           },
           {
            "iteration": 83,
            "learn": [
             0.342566578
            ],
            "passed_time": 1.004673994,
            "remaining_time": 4.975528354,
            "test": [
             0.4752235279
            ]
           },
           {
            "iteration": 84,
            "learn": [
             0.3403030212
            ],
            "passed_time": 1.019270011,
            "remaining_time": 4.976435937,
            "test": [
             0.4744030824
            ]
           },
           {
            "iteration": 85,
            "learn": [
             0.3385705477
            ],
            "passed_time": 1.027293656,
            "remaining_time": 4.945343878,
            "test": [
             0.474527138
            ]
           },
           {
            "iteration": 86,
            "learn": [
             0.3376036009
            ],
            "passed_time": 1.035286259,
            "remaining_time": 4.91463477,
            "test": [
             0.4749188475
            ]
           },
           {
            "iteration": 87,
            "learn": [
             0.3358779928
            ],
            "passed_time": 1.041936382,
            "remaining_time": 4.878156698,
            "test": [
             0.474320066
            ]
           },
           {
            "iteration": 88,
            "learn": [
             0.3351090028
            ],
            "passed_time": 1.046209436,
            "remaining_time": 4.831371664,
            "test": [
             0.4743007072
            ]
           },
           {
            "iteration": 89,
            "learn": [
             0.3341748552
            ],
            "passed_time": 1.053397641,
            "remaining_time": 4.798811474,
            "test": [
             0.4744144544
            ]
           },
           {
            "iteration": 90,
            "learn": [
             0.329725156
            ],
            "passed_time": 1.064838438,
            "remaining_time": 4.78592221,
            "test": [
             0.4688081434
            ]
           },
           {
            "iteration": 91,
            "learn": [
             0.3254279225
            ],
            "passed_time": 1.072032582,
            "remaining_time": 4.754231451,
            "test": [
             0.4650643028
            ]
           },
           {
            "iteration": 92,
            "learn": [
             0.3240042509
            ],
            "passed_time": 1.080852081,
            "remaining_time": 4.730180612,
            "test": [
             0.4662650889
            ]
           },
           {
            "iteration": 93,
            "learn": [
             0.3225204814
            ],
            "passed_time": 1.092987558,
            "remaining_time": 4.720776049,
            "test": [
             0.4663443765
            ]
           },
           {
            "iteration": 94,
            "learn": [
             0.3209406161
            ],
            "passed_time": 1.111434648,
            "remaining_time": 4.738221394,
            "test": [
             0.4674309314
            ]
           },
           {
            "iteration": 95,
            "learn": [
             0.3195734368
            ],
            "passed_time": 1.116376249,
            "remaining_time": 4.698083382,
            "test": [
             0.4685047893
            ]
           },
           {
            "iteration": 96,
            "learn": [
             0.3181692615
            ],
            "passed_time": 1.128588328,
            "remaining_time": 4.688877282,
            "test": [
             0.4680301772
            ]
           },
           {
            "iteration": 97,
            "learn": [
             0.3163620423
            ],
            "passed_time": 1.131907829,
            "remaining_time": 4.643132114,
            "test": [
             0.4681449433
            ]
           },
           {
            "iteration": 98,
            "learn": [
             0.3148952836
            ],
            "passed_time": 1.148395393,
            "remaining_time": 4.651581338,
            "test": [
             0.4681874393
            ]
           },
           {
            "iteration": 99,
            "learn": [
             0.3137286483
            ],
            "passed_time": 1.161351752,
            "remaining_time": 4.64540701,
            "test": [
             0.4675712454
            ]
           },
           {
            "iteration": 100,
            "learn": [
             0.3109023294
            ],
            "passed_time": 1.168397708,
            "remaining_time": 4.61574936,
            "test": [
             0.4649573591
            ]
           },
           {
            "iteration": 101,
            "learn": [
             0.3097068878
            ],
            "passed_time": 1.182700157,
            "remaining_time": 4.61484963,
            "test": [
             0.4651488874
            ]
           },
           {
            "iteration": 102,
            "learn": [
             0.3086168317
            ],
            "passed_time": 1.193783432,
            "remaining_time": 4.601281773,
            "test": [
             0.4656844206
            ]
           },
           {
            "iteration": 103,
            "learn": [
             0.3068751296
            ],
            "passed_time": 1.206874277,
            "remaining_time": 4.5954059,
            "test": [
             0.4659375605
            ]
           },
           {
            "iteration": 104,
            "learn": [
             0.3052628114
            ],
            "passed_time": 1.220664869,
            "remaining_time": 4.592024984,
            "test": [
             0.4653915586
            ]
           },
           {
            "iteration": 105,
            "learn": [
             0.3043022207
            ],
            "passed_time": 1.229092411,
            "remaining_time": 4.568513301,
            "test": [
             0.4654059902
            ]
           },
           {
            "iteration": 106,
            "learn": [
             0.3029026088
            ],
            "passed_time": 1.238072229,
            "remaining_time": 4.547312018,
            "test": [
             0.4660545336
            ]
           },
           {
            "iteration": 107,
            "learn": [
             0.3018103728
            ],
            "passed_time": 1.246084163,
            "remaining_time": 4.522824,
            "test": [
             0.4657550617
            ]
           },
           {
            "iteration": 108,
            "learn": [
             0.3005181225
            ],
            "passed_time": 1.252942098,
            "remaining_time": 4.494498719,
            "test": [
             0.4655412197
            ]
           },
           {
            "iteration": 109,
            "learn": [
             0.2985315055
            ],
            "passed_time": 1.262069556,
            "remaining_time": 4.474610243,
            "test": [
             0.4640902466
            ]
           },
           {
            "iteration": 110,
            "learn": [
             0.2970930438
            ],
            "passed_time": 1.274176826,
            "remaining_time": 4.465358425,
            "test": [
             0.4648865335
            ]
           },
           {
            "iteration": 111,
            "learn": [
             0.2961660877
            ],
            "passed_time": 1.289561103,
            "remaining_time": 4.467408108,
            "test": [
             0.4643275228
            ]
           },
           {
            "iteration": 112,
            "learn": [
             0.2949117704
            ],
            "passed_time": 1.299329724,
            "remaining_time": 4.449916844,
            "test": [
             0.4645869917
            ]
           },
           {
            "iteration": 113,
            "learn": [
             0.2934614316
            ],
            "passed_time": 1.302553426,
            "remaining_time": 4.410400195,
            "test": [
             0.4656088598
            ]
           },
           {
            "iteration": 114,
            "learn": [
             0.2926720287
            ],
            "passed_time": 1.318999957,
            "remaining_time": 4.415782465,
            "test": [
             0.4658723344
            ]
           },
           {
            "iteration": 115,
            "learn": [
             0.2911342728
            ],
            "passed_time": 1.322355308,
            "remaining_time": 4.377452054,
            "test": [
             0.4666220596
            ]
           },
           {
            "iteration": 116,
            "learn": [
             0.2896687771
            ],
            "passed_time": 1.327152397,
            "remaining_time": 4.344439044,
            "test": [
             0.4667566351
            ]
           },
           {
            "iteration": 117,
            "learn": [
             0.2882862167
            ],
            "passed_time": 1.344920352,
            "remaining_time": 4.3538947,
            "test": [
             0.4670125592
            ]
           },
           {
            "iteration": 118,
            "learn": [
             0.287387252
            ],
            "passed_time": 1.355977986,
            "remaining_time": 4.341408509,
            "test": [
             0.466361189
            ]
           },
           {
            "iteration": 119,
            "learn": [
             0.2863246984
            ],
            "passed_time": 1.373569509,
            "remaining_time": 4.349636778,
            "test": [
             0.465640499
            ]
           },
           {
            "iteration": 120,
            "learn": [
             0.2837285855
            ],
            "passed_time": 1.38596535,
            "remaining_time": 4.341164197,
            "test": [
             0.4632152242
            ]
           },
           {
            "iteration": 121,
            "learn": [
             0.2818109489
            ],
            "passed_time": 1.402152833,
            "remaining_time": 4.34437517,
            "test": [
             0.4620602508
            ]
           },
           {
            "iteration": 122,
            "learn": [
             0.2804422417
            ],
            "passed_time": 1.414754182,
            "remaining_time": 4.336279077,
            "test": [
             0.4626390062
            ]
           },
           {
            "iteration": 123,
            "learn": [
             0.2788183724
            ],
            "passed_time": 1.424783947,
            "remaining_time": 4.320312613,
            "test": [
             0.4623974818
            ]
           },
           {
            "iteration": 124,
            "learn": [
             0.2780289083
            ],
            "passed_time": 1.431989618,
            "remaining_time": 4.295968854,
            "test": [
             0.4630102015
            ]
           },
           {
            "iteration": 125,
            "learn": [
             0.2769774983
            ],
            "passed_time": 1.438897519,
            "remaining_time": 4.271013269,
            "test": [
             0.4633178661
            ]
           },
           {
            "iteration": 126,
            "learn": [
             0.2754084099
            ],
            "passed_time": 1.444665787,
            "remaining_time": 4.242994793,
            "test": [
             0.4637814206
            ]
           },
           {
            "iteration": 127,
            "learn": [
             0.2748178398
            ],
            "passed_time": 1.449135746,
            "remaining_time": 4.211550763,
            "test": [
             0.4641113834
            ]
           },
           {
            "iteration": 128,
            "learn": [
             0.2739894852
            ],
            "passed_time": 1.471093804,
            "remaining_time": 4.230820166,
            "test": [
             0.4638074862
            ]
           },
           {
            "iteration": 129,
            "learn": [
             0.2732290922
            ],
            "passed_time": 1.488628228,
            "remaining_time": 4.236864955,
            "test": [
             0.4636423742
            ]
           },
           {
            "iteration": 130,
            "learn": [
             0.2716698233
            ],
            "passed_time": 1.506597853,
            "remaining_time": 4.243775633,
            "test": [
             0.4642753121
            ]
           },
           {
            "iteration": 131,
            "learn": [
             0.2704559041
            ],
            "passed_time": 1.521421352,
            "remaining_time": 4.241538315,
            "test": [
             0.4652129175
            ]
           },
           {
            "iteration": 132,
            "learn": [
             0.2692929766
            ],
            "passed_time": 1.528602484,
            "remaining_time": 4.218023395,
            "test": [
             0.4644930476
            ]
           },
           {
            "iteration": 133,
            "learn": [
             0.2684149137
            ],
            "passed_time": 1.541481677,
            "remaining_time": 4.210315624,
            "test": [
             0.4649766806
            ]
           },
           {
            "iteration": 134,
            "learn": [
             0.2676133689
            ],
            "passed_time": 1.552702645,
            "remaining_time": 4.198047892,
            "test": [
             0.4646256579
            ]
           },
           {
            "iteration": 135,
            "learn": [
             0.2664994773
            ],
            "passed_time": 1.571740467,
            "remaining_time": 4.206717131,
            "test": [
             0.4640006559
            ]
           },
           {
            "iteration": 136,
            "learn": [
             0.2649975969
            ],
            "passed_time": 1.595178016,
            "remaining_time": 4.226639562,
            "test": [
             0.4640206618
            ]
           },
           {
            "iteration": 137,
            "learn": [
             0.2639538265
            ],
            "passed_time": 1.600439306,
            "remaining_time": 4.198253831,
            "test": [
             0.4642018644
            ]
           },
           {
            "iteration": 138,
            "learn": [
             0.2631027161
            ],
            "passed_time": 1.623252304,
            "remaining_time": 4.21578476,
            "test": [
             0.463927319
            ]
           },
           {
            "iteration": 139,
            "learn": [
             0.2623636936
            ],
            "passed_time": 1.626251509,
            "remaining_time": 4.181789594,
            "test": [
             0.46370377
            ]
           },
           {
            "iteration": 140,
            "learn": [
             0.261047404
            ],
            "passed_time": 1.634184499,
            "remaining_time": 4.160795995,
            "test": [
             0.4628870272
            ]
           },
           {
            "iteration": 141,
            "learn": [
             0.2601446501
            ],
            "passed_time": 1.637343483,
            "remaining_time": 4.127950471,
            "test": [
             0.4631994212
            ]
           },
           {
            "iteration": 142,
            "learn": [
             0.2587637195
            ],
            "passed_time": 1.641471859,
            "remaining_time": 4.097940234,
            "test": [
             0.4635675174
            ]
           },
           {
            "iteration": 143,
            "learn": [
             0.2578487625
            ],
            "passed_time": 1.64648395,
            "remaining_time": 4.070474209,
            "test": [
             0.4641500253
            ]
           },
           {
            "iteration": 144,
            "learn": [
             0.2571028746
            ],
            "passed_time": 1.654424185,
            "remaining_time": 4.050486798,
            "test": [
             0.4643947274
            ]
           },
           {
            "iteration": 145,
            "learn": [
             0.2560952445
            ],
            "passed_time": 1.658297658,
            "remaining_time": 4.02080391,
            "test": [
             0.4643046879
            ]
           },
           {
            "iteration": 146,
            "learn": [
             0.2548967064
            ],
            "passed_time": 1.664133595,
            "remaining_time": 3.996184756,
            "test": [
             0.4650029444
            ]
           },
           {
            "iteration": 147,
            "learn": [
             0.2542982114
            ],
            "passed_time": 1.672697457,
            "remaining_time": 3.978307465,
            "test": [
             0.464871116
            ]
           },
           {
            "iteration": 148,
            "learn": [
             0.2531307205
            ],
            "passed_time": 1.68074292,
            "remaining_time": 3.959333992,
            "test": [
             0.4652776387
            ]
           },
           {
            "iteration": 149,
            "learn": [
             0.2522034588
            ],
            "passed_time": 1.690628078,
            "remaining_time": 3.944798849,
            "test": [
             0.465405982
            ]
           },
           {
            "iteration": 150,
            "learn": [
             0.2512806586
            ],
            "passed_time": 1.697070086,
            "remaining_time": 3.922367284,
            "test": [
             0.4648010083
            ]
           },
           {
            "iteration": 151,
            "learn": [
             0.2503023237
            ],
            "passed_time": 1.705901365,
            "remaining_time": 3.905616282,
            "test": [
             0.4645695566
            ]
           },
           {
            "iteration": 152,
            "learn": [
             0.2490190371
            ],
            "passed_time": 1.709694816,
            "remaining_time": 3.877543145,
            "test": [
             0.4638029373
            ]
           },
           {
            "iteration": 153,
            "learn": [
             0.2480749072
            ],
            "passed_time": 1.713614146,
            "remaining_time": 3.850068147,
            "test": [
             0.4639140293
            ]
           },
           {
            "iteration": 154,
            "learn": [
             0.2472994592
            ],
            "passed_time": 1.721629383,
            "remaining_time": 3.832013788,
            "test": [
             0.4646523332
            ]
           },
           {
            "iteration": 155,
            "learn": [
             0.2446137086
            ],
            "passed_time": 1.728239429,
            "remaining_time": 3.810989511,
            "test": [
             0.4614315005
            ]
           },
           {
            "iteration": 156,
            "learn": [
             0.2437109954
            ],
            "passed_time": 1.735921578,
            "remaining_time": 3.79249109,
            "test": [
             0.4609524817
            ]
           },
           {
            "iteration": 157,
            "learn": [
             0.24285414
            ],
            "passed_time": 1.739176302,
            "remaining_time": 3.764546173,
            "test": [
             0.4611837727
            ]
           },
           {
            "iteration": 158,
            "learn": [
             0.2418300491
            ],
            "passed_time": 1.755342509,
            "remaining_time": 3.764602488,
            "test": [
             0.461313434
            ]
           },
           {
            "iteration": 159,
            "learn": [
             0.240162787
            ],
            "passed_time": 1.758540556,
            "remaining_time": 3.736898681,
            "test": [
             0.4622499371
            ]
           },
           {
            "iteration": 160,
            "learn": [
             0.2393210886
            ],
            "passed_time": 1.766564529,
            "remaining_time": 3.719660715,
            "test": [
             0.4620250178
            ]
           },
           {
            "iteration": 161,
            "learn": [
             0.2382207649
            ],
            "passed_time": 1.769661725,
            "remaining_time": 3.69225718,
            "test": [
             0.4619292116
            ]
           },
           {
            "iteration": 162,
            "learn": [
             0.237140956
            ],
            "passed_time": 1.778729746,
            "remaining_time": 3.677496469,
            "test": [
             0.4616271304
            ]
           },
           {
            "iteration": 163,
            "learn": [
             0.2362977297
            ],
            "passed_time": 1.788890462,
            "remaining_time": 3.665043874,
            "test": [
             0.4618966967
            ]
           },
           {
            "iteration": 164,
            "learn": [
             0.2356759085
            ],
            "passed_time": 1.791973914,
            "remaining_time": 3.638250067,
            "test": [
             0.4624159743
            ]
           },
           {
            "iteration": 165,
            "learn": [
             0.234952043
            ],
            "passed_time": 1.799991381,
            "remaining_time": 3.621669405,
            "test": [
             0.4635143898
            ]
           },
           {
            "iteration": 166,
            "learn": [
             0.2339605069
            ],
            "passed_time": 1.803767173,
            "remaining_time": 3.596733346,
            "test": [
             0.464505304
            ]
           },
           {
            "iteration": 167,
            "learn": [
             0.2331888889
            ],
            "passed_time": 1.812585841,
            "remaining_time": 3.582014877,
            "test": [
             0.4642174673
            ]
           },
           {
            "iteration": 168,
            "learn": [
             0.2323547689
            ],
            "passed_time": 1.815946765,
            "remaining_time": 3.556676801,
            "test": [
             0.464476953
            ]
           },
           {
            "iteration": 169,
            "learn": [
             0.2309206261
            ],
            "passed_time": 1.819999927,
            "remaining_time": 3.532941035,
            "test": [
             0.4637592544
            ]
           },
           {
            "iteration": 170,
            "learn": [
             0.2300486749
            ],
            "passed_time": 1.828030705,
            "remaining_time": 3.517088315,
            "test": [
             0.4635094864
            ]
           },
           {
            "iteration": 171,
            "learn": [
             0.2289599838
            ],
            "passed_time": 1.831264499,
            "remaining_time": 3.492178812,
            "test": [
             0.4642855708
            ]
           },
           {
            "iteration": 172,
            "learn": [
             0.2281601298
            ],
            "passed_time": 1.835856152,
            "remaining_time": 3.470086484,
            "test": [
             0.4644166553
            ]
           },
           {
            "iteration": 173,
            "learn": [
             0.2273349736
            ],
            "passed_time": 1.847029644,
            "remaining_time": 3.460526804,
            "test": [
             0.4642500107
            ]
           },
           {
            "iteration": 174,
            "learn": [
             0.226612086
            ],
            "passed_time": 1.855695897,
            "remaining_time": 3.446292379,
            "test": [
             0.4645993321
            ]
           },
           {
            "iteration": 175,
            "learn": [
             0.2254591408
            ],
            "passed_time": 1.858931474,
            "remaining_time": 3.42212385,
            "test": [
             0.4659114263
            ]
           },
           {
            "iteration": 176,
            "learn": [
             0.2242833381
            ],
            "passed_time": 1.867027596,
            "remaining_time": 3.407061657,
            "test": [
             0.4663865982
            ]
           },
           {
            "iteration": 177,
            "learn": [
             0.2236092215
            ],
            "passed_time": 1.870148518,
            "remaining_time": 3.383077655,
            "test": [
             0.4667199559
            ]
           },
           {
            "iteration": 178,
            "learn": [
             0.2228258487
            ],
            "passed_time": 1.883098269,
            "remaining_time": 3.376952762,
            "test": [
             0.4666729311
            ]
           },
           {
            "iteration": 179,
            "learn": [
             0.2221599421
            ],
            "passed_time": 1.898477366,
            "remaining_time": 3.375070873,
            "test": [
             0.4665789278
            ]
           },
           {
            "iteration": 180,
            "learn": [
             0.2211741306
            ],
            "passed_time": 1.903416191,
            "remaining_time": 3.354639585,
            "test": [
             0.4666976953
            ]
           },
           {
            "iteration": 181,
            "learn": [
             0.2205702778
            ],
            "passed_time": 1.910791862,
            "remaining_time": 3.338636331,
            "test": [
             0.4673964913
            ]
           },
           {
            "iteration": 182,
            "learn": [
             0.2189622989
            ],
            "passed_time": 1.914022846,
            "remaining_time": 3.315547771,
            "test": [
             0.4666843833
            ]
           },
           {
            "iteration": 183,
            "learn": [
             0.2180057011
            ],
            "passed_time": 1.928234423,
            "remaining_time": 3.311533032,
            "test": [
             0.467139847
            ]
           },
           {
            "iteration": 184,
            "learn": [
             0.2170261643
            ],
            "passed_time": 1.931211292,
            "remaining_time": 3.288278686,
            "test": [
             0.4676037162
            ]
           },
           {
            "iteration": 185,
            "learn": [
             0.2165700711
            ],
            "passed_time": 1.935208749,
            "remaining_time": 3.266965307,
            "test": [
             0.4678301228
            ]
           },
           {
            "iteration": 186,
            "learn": [
             0.2157242779
            ],
            "passed_time": 1.938213833,
            "remaining_time": 3.244176095,
            "test": [
             0.4679298051
            ]
           },
           {
            "iteration": 187,
            "learn": [
             0.2144735054
            ],
            "passed_time": 1.947947048,
            "remaining_time": 3.232763185,
            "test": [
             0.4683675213
            ]
           },
           {
            "iteration": 188,
            "learn": [
             0.2139282227
            ],
            "passed_time": 1.951049766,
            "remaining_time": 3.210457552,
            "test": [
             0.468106248
            ]
           },
           {
            "iteration": 189,
            "learn": [
             0.2123280667
            ],
            "passed_time": 1.959166954,
            "remaining_time": 3.196535557,
            "test": [
             0.4667174793
            ]
           },
           {
            "iteration": 190,
            "learn": [
             0.2113308467
            ],
            "passed_time": 1.964501036,
            "remaining_time": 3.178171834,
            "test": [
             0.4671843897
            ]
           },
           {
            "iteration": 191,
            "learn": [
             0.2105254516
            ],
            "passed_time": 1.969088158,
            "remaining_time": 3.158745587,
            "test": [
             0.4675191117
            ]
           },
           {
            "iteration": 192,
            "learn": [
             0.2093715489
            ],
            "passed_time": 1.975602676,
            "remaining_time": 3.142538972,
            "test": [
             0.4677780797
            ]
           },
           {
            "iteration": 193,
            "learn": [
             0.2083454208
            ],
            "passed_time": 1.980224784,
            "remaining_time": 3.12344734,
            "test": [
             0.4675606314
            ]
           },
           {
            "iteration": 194,
            "learn": [
             0.2077773009
            ],
            "passed_time": 1.995477504,
            "remaining_time": 3.12113148,
            "test": [
             0.4677237206
            ]
           },
           {
            "iteration": 195,
            "learn": [
             0.2072816245
            ],
            "passed_time": 2.002962856,
            "remaining_time": 3.106636267,
            "test": [
             0.4675854315
            ]
           },
           {
            "iteration": 196,
            "learn": [
             0.2065997869
            ],
            "passed_time": 2.027073432,
            "remaining_time": 3.117782994,
            "test": [
             0.4675845004
            ]
           },
           {
            "iteration": 197,
            "learn": [
             0.2055455858
            ],
            "passed_time": 2.041427291,
            "remaining_time": 3.113692131,
            "test": [
             0.4681812257
            ]
           },
           {
            "iteration": 198,
            "learn": [
             0.2043770152
            ],
            "passed_time": 2.049190813,
            "remaining_time": 3.099529822,
            "test": [
             0.4684734637
            ]
           },
           {
            "iteration": 199,
            "learn": [
             0.2029826186
            ],
            "passed_time": 2.05446633,
            "remaining_time": 3.081699495,
            "test": [
             0.4672535445
            ]
           },
           {
            "iteration": 200,
            "learn": [
             0.2022044611
            ],
            "passed_time": 2.063968595,
            "remaining_time": 3.070281641,
            "test": [
             0.4671698126
            ]
           },
           {
            "iteration": 201,
            "learn": [
             0.2010066971
            ],
            "passed_time": 2.06704695,
            "remaining_time": 3.049405896,
            "test": [
             0.4658897961
            ]
           },
           {
            "iteration": 202,
            "learn": [
             0.2002931399
            ],
            "passed_time": 2.07042984,
            "remaining_time": 3.029151047,
            "test": [
             0.4666186586
            ]
           },
           {
            "iteration": 203,
            "learn": [
             0.1995929265
            ],
            "passed_time": 2.075323197,
            "remaining_time": 3.011253266,
            "test": [
             0.4676027093
            ]
           },
           {
            "iteration": 204,
            "learn": [
             0.1985030333
            ],
            "passed_time": 2.079181817,
            "remaining_time": 2.991993347,
            "test": [
             0.4685669864
            ]
           },
           {
            "iteration": 205,
            "learn": [
             0.1975288544
            ],
            "passed_time": 2.082994825,
            "remaining_time": 2.972817857,
            "test": [
             0.4689609396
            ]
           },
           {
            "iteration": 206,
            "learn": [
             0.1968070057
            ],
            "passed_time": 2.086893548,
            "remaining_time": 2.953912123,
            "test": [
             0.4693095845
            ]
           },
           {
            "iteration": 207,
            "learn": [
             0.1961551763
            ],
            "passed_time": 2.095036818,
            "remaining_time": 2.941109379,
            "test": [
             0.4694063015
            ]
           },
           {
            "iteration": 208,
            "learn": [
             0.1956625761
            ],
            "passed_time": 2.098344881,
            "remaining_time": 2.92161895,
            "test": [
             0.4695096048
            ]
           },
           {
            "iteration": 209,
            "learn": [
             0.1950086688
            ],
            "passed_time": 2.101340421,
            "remaining_time": 2.901851057,
            "test": [
             0.4689436395
            ]
           },
           {
            "iteration": 210,
            "learn": [
             0.1942880628
            ],
            "passed_time": 2.105102547,
            "remaining_time": 2.883292114,
            "test": [
             0.4686511263
            ]
           },
           {
            "iteration": 211,
            "learn": [
             0.1934595859
            ],
            "passed_time": 2.108437459,
            "remaining_time": 2.864292398,
            "test": [
             0.4696975223
            ]
           },
           {
            "iteration": 212,
            "learn": [
             0.1922689726
            ],
            "passed_time": 2.11661138,
            "remaining_time": 2.851959934,
            "test": [
             0.4691427178
            ]
           },
           {
            "iteration": 213,
            "learn": [
             0.1918111274
            ],
            "passed_time": 2.120012343,
            "remaining_time": 2.833287524,
            "test": [
             0.4694201274
            ]
           },
           {
            "iteration": 214,
            "learn": [
             0.190806329
            ],
            "passed_time": 2.130925956,
            "remaining_time": 2.824715802,
            "test": [
             0.4695382597
            ]
           },
           {
            "iteration": 215,
            "learn": [
             0.1902678099
            ],
            "passed_time": 2.13955306,
            "remaining_time": 2.813116061,
            "test": [
             0.4703471741
            ]
           },
           {
            "iteration": 216,
            "learn": [
             0.1895115933
            ],
            "passed_time": 2.142702551,
            "remaining_time": 2.794400101,
            "test": [
             0.4697802635
            ]
           },
           {
            "iteration": 217,
            "learn": [
             0.1887414828
            ],
            "passed_time": 2.147368485,
            "remaining_time": 2.777788591,
            "test": [
             0.4693057713
            ]
           },
           {
            "iteration": 218,
            "learn": [
             0.1880493775
            ],
            "passed_time": 2.155912289,
            "remaining_time": 2.766261886,
            "test": [
             0.4698506563
            ]
           },
           {
            "iteration": 219,
            "learn": [
             0.1873130442
            ],
            "passed_time": 2.164877754,
            "remaining_time": 2.75529896,
            "test": [
             0.4699014882
            ]
           },
           {
            "iteration": 220,
            "learn": [
             0.1867886837
            ],
            "passed_time": 2.167981573,
            "remaining_time": 2.736954113,
            "test": [
             0.469963741
            ]
           },
           {
            "iteration": 221,
            "learn": [
             0.1859672557
            ],
            "passed_time": 2.172313678,
            "remaining_time": 2.720284696,
            "test": [
             0.4696886318
            ]
           },
           {
            "iteration": 222,
            "learn": [
             0.184945039
            ],
            "passed_time": 2.175554785,
            "remaining_time": 2.702370742,
            "test": [
             0.4697471704
            ]
           },
           {
            "iteration": 223,
            "learn": [
             0.1840652038
            ],
            "passed_time": 2.179577402,
            "remaining_time": 2.685550728,
            "test": [
             0.47012582
            ]
           },
           {
            "iteration": 224,
            "learn": [
             0.1829794462
            ],
            "passed_time": 2.183215677,
            "remaining_time": 2.668374716,
            "test": [
             0.4691927942
            ]
           },
           {
            "iteration": 225,
            "learn": [
             0.1821141975
            ],
            "passed_time": 2.187457495,
            "remaining_time": 2.652050237,
            "test": [
             0.4687270056
            ]
           },
           {
            "iteration": 226,
            "learn": [
             0.1816631567
            ],
            "passed_time": 2.190533977,
            "remaining_time": 2.634430731,
            "test": [
             0.4692191883
            ]
           },
           {
            "iteration": 227,
            "learn": [
             0.1807512556
            ],
            "passed_time": 2.19499108,
            "remaining_time": 2.61858585,
            "test": [
             0.469621474
            ]
           },
           {
            "iteration": 228,
            "learn": [
             0.1797003956
            ],
            "passed_time": 2.198333325,
            "remaining_time": 2.601521097,
            "test": [
             0.4695605966
            ]
           },
           {
            "iteration": 229,
            "learn": [
             0.1792306327
            ],
            "passed_time": 2.202678172,
            "remaining_time": 2.585752636,
            "test": [
             0.4692835318
            ]
           },
           {
            "iteration": 230,
            "learn": [
             0.1785648687
            ],
            "passed_time": 2.205769645,
            "remaining_time": 2.568623526,
            "test": [
             0.4689910498
            ]
           },
           {
            "iteration": 231,
            "learn": [
             0.1780090739
            ],
            "passed_time": 2.210194297,
            "remaining_time": 2.553155481,
            "test": [
             0.4694980317
            ]
           },
           {
            "iteration": 232,
            "learn": [
             0.1772571559
            ],
            "passed_time": 2.216511275,
            "remaining_time": 2.539950688,
            "test": [
             0.4699131789
            ]
           },
           {
            "iteration": 233,
            "learn": [
             0.176669886
            ],
            "passed_time": 2.226727638,
            "remaining_time": 2.531237401,
            "test": [
             0.4702373781
            ]
           },
           {
            "iteration": 234,
            "learn": [
             0.1762736668
            ],
            "passed_time": 2.230127315,
            "remaining_time": 2.514824419,
            "test": [
             0.4700548112
            ]
           },
           {
            "iteration": 235,
            "learn": [
             0.1756316772
            ],
            "passed_time": 2.234708337,
            "remaining_time": 2.499843225,
            "test": [
             0.4698989989
            ]
           },
           {
            "iteration": 236,
            "learn": [
             0.1751124709
            ],
            "passed_time": 2.241807689,
            "remaining_time": 2.487744398,
            "test": [
             0.4701815851
            ]
           },
           {
            "iteration": 237,
            "learn": [
             0.174869899
            ],
            "passed_time": 2.25243881,
            "remaining_time": 2.479575497,
            "test": [
             0.4704041667
            ]
           },
           {
            "iteration": 238,
            "learn": [
             0.1741729044
            ],
            "passed_time": 2.25545911,
            "remaining_time": 2.463074593,
            "test": [
             0.4705946945
            ]
           },
           {
            "iteration": 239,
            "learn": [
             0.1738270656
            ],
            "passed_time": 2.259415505,
            "remaining_time": 2.44770013,
            "test": [
             0.4708036504
            ]
           },
           {
            "iteration": 240,
            "learn": [
             0.1732640999
            ],
            "passed_time": 2.262548465,
            "remaining_time": 2.431535487,
            "test": [
             0.4713780878
            ]
           },
           {
            "iteration": 241,
            "learn": [
             0.1727598672
            ],
            "passed_time": 2.271648151,
            "remaining_time": 2.421839764,
            "test": [
             0.4709668213
            ]
           },
           {
            "iteration": 242,
            "learn": [
             0.1723112099
            ],
            "passed_time": 2.274927349,
            "remaining_time": 2.405993122,
            "test": [
             0.4711315299
            ]
           },
           {
            "iteration": 243,
            "learn": [
             0.1717823268
            ],
            "passed_time": 2.286748715,
            "remaining_time": 2.399211767,
            "test": [
             0.4707415761
            ]
           },
           {
            "iteration": 244,
            "learn": [
             0.1714269335
            ],
            "passed_time": 2.294136862,
            "remaining_time": 2.387775101,
            "test": [
             0.470499004
            ]
           },
           {
            "iteration": 245,
            "learn": [
             0.1709041825
            ],
            "passed_time": 2.301872411,
            "remaining_time": 2.37673005,
            "test": [
             0.4708332433
            ]
           },
           {
            "iteration": 246,
            "learn": [
             0.1702338551
            ],
            "passed_time": 2.305027862,
            "remaining_time": 2.361020442,
            "test": [
             0.4707886459
            ]
           },
           {
            "iteration": 247,
            "learn": [
             0.1697875814
            ],
            "passed_time": 2.312926086,
            "remaining_time": 2.350231345,
            "test": [
             0.4712866568
            ]
           },
           {
            "iteration": 248,
            "learn": [
             0.1689733854
            ],
            "passed_time": 2.320414097,
            "remaining_time": 2.339051961,
            "test": [
             0.471895166
            ]
           },
           {
            "iteration": 249,
            "learn": [
             0.168541087
            ],
            "passed_time": 2.323337834,
            "remaining_time": 2.323337834,
            "test": [
             0.4719072173
            ]
           },
           {
            "iteration": 250,
            "learn": [
             0.1678038777
            ],
            "passed_time": 2.332305022,
            "remaining_time": 2.313720918,
            "test": [
             0.4719571697
            ]
           },
           {
            "iteration": 251,
            "learn": [
             0.1671921204
            ],
            "passed_time": 2.336431255,
            "remaining_time": 2.299345044,
            "test": [
             0.4713370005
            ]
           },
           {
            "iteration": 252,
            "learn": [
             0.1663570531
            ],
            "passed_time": 2.340109964,
            "remaining_time": 2.284613285,
            "test": [
             0.4712712652
            ]
           },
           {
            "iteration": 253,
            "learn": [
             0.1657434624
            ],
            "passed_time": 2.349013324,
            "remaining_time": 2.275028652,
            "test": [
             0.4720449978
            ]
           },
           {
            "iteration": 254,
            "learn": [
             0.1649161366
            ],
            "passed_time": 2.358147211,
            "remaining_time": 2.26567085,
            "test": [
             0.4737785754
            ]
           },
           {
            "iteration": 255,
            "learn": [
             0.1645592153
            ],
            "passed_time": 2.366412234,
            "remaining_time": 2.255486661,
            "test": [
             0.4740275077
            ]
           },
           {
            "iteration": 256,
            "learn": [
             0.1641200209
            ],
            "passed_time": 2.374041064,
            "remaining_time": 2.24471587,
            "test": [
             0.4741628808
            ]
           },
           {
            "iteration": 257,
            "learn": [
             0.1636144437
            ],
            "passed_time": 2.377186801,
            "remaining_time": 2.229764364,
            "test": [
             0.4747585938
            ]
           },
           {
            "iteration": 258,
            "learn": [
             0.1630375229
            ],
            "passed_time": 2.381151097,
            "remaining_time": 2.215665692,
            "test": [
             0.4753928042
            ]
           },
           {
            "iteration": 259,
            "learn": [
             0.162542692
            ],
            "passed_time": 2.384280099,
            "remaining_time": 2.200873937,
            "test": [
             0.4756256171
            ]
           },
           {
            "iteration": 260,
            "learn": [
             0.1619425877
            ],
            "passed_time": 2.388364759,
            "remaining_time": 2.187046657,
            "test": [
             0.4755099756
            ]
           },
           {
            "iteration": 261,
            "learn": [
             0.1614937063
            ],
            "passed_time": 2.392507349,
            "remaining_time": 2.17334637,
            "test": [
             0.4757718865
            ]
           },
           {
            "iteration": 262,
            "learn": [
             0.160878496
            ],
            "passed_time": 2.396335293,
            "remaining_time": 2.159435226,
            "test": [
             0.4767018989
            ]
           },
           {
            "iteration": 263,
            "learn": [
             0.1599496961
            ],
            "passed_time": 2.400806639,
            "remaining_time": 2.146175632,
            "test": [
             0.4772745287
            ]
           },
           {
            "iteration": 264,
            "learn": [
             0.1591534073
            ],
            "passed_time": 2.404828245,
            "remaining_time": 2.132583538,
            "test": [
             0.4775080251
            ]
           },
           {
            "iteration": 265,
            "learn": [
             0.1585654448
            ],
            "passed_time": 2.425175487,
            "remaining_time": 2.133425052,
            "test": [
             0.477334651
            ]
           },
           {
            "iteration": 266,
            "learn": [
             0.158198582
            ],
            "passed_time": 2.429718283,
            "remaining_time": 2.120315955,
            "test": [
             0.4773869867
            ]
           },
           {
            "iteration": 267,
            "learn": [
             0.1576865467
            ],
            "passed_time": 2.43436817,
            "remaining_time": 2.107363491,
            "test": [
             0.4781013182
            ]
           },
           {
            "iteration": 268,
            "learn": [
             0.1573144075
            ],
            "passed_time": 2.438491513,
            "remaining_time": 2.094020593,
            "test": [
             0.4789626451
            ]
           },
           {
            "iteration": 269,
            "learn": [
             0.1564085875
            ],
            "passed_time": 2.44221114,
            "remaining_time": 2.080402082,
            "test": [
             0.4802946341
            ]
           },
           {
            "iteration": 270,
            "learn": [
             0.1555820562
            ],
            "passed_time": 2.44775517,
            "remaining_time": 2.068398281,
            "test": [
             0.4785992587
            ]
           },
           {
            "iteration": 271,
            "learn": [
             0.1550487422
            ],
            "passed_time": 2.452587131,
            "remaining_time": 2.055845095,
            "test": [
             0.4787865579
            ]
           },
           {
            "iteration": 272,
            "learn": [
             0.1545076256
            ],
            "passed_time": 2.457483041,
            "remaining_time": 2.043401649,
            "test": [
             0.4790679378
            ]
           },
           {
            "iteration": 273,
            "learn": [
             0.1538804873
            ],
            "passed_time": 2.465920992,
            "remaining_time": 2.033934833,
            "test": [
             0.4794922974
            ]
           },
           {
            "iteration": 274,
            "learn": [
             0.1530987239
            ],
            "passed_time": 2.476364888,
            "remaining_time": 2.026116727,
            "test": [
             0.4794697393
            ]
           },
           {
            "iteration": 275,
            "learn": [
             0.1524947183
            ],
            "passed_time": 2.48132131,
            "remaining_time": 2.013825991,
            "test": [
             0.4787729224
            ]
           },
           {
            "iteration": 276,
            "learn": [
             0.1516822845
            ],
            "passed_time": 2.49344001,
            "remaining_time": 2.007354232,
            "test": [
             0.47887455
            ]
           },
           {
            "iteration": 277,
            "learn": [
             0.1511289446
            ],
            "passed_time": 2.500769348,
            "remaining_time": 1.997017249,
            "test": [
             0.4789078835
            ]
           },
           {
            "iteration": 278,
            "learn": [
             0.1506035859
            ],
            "passed_time": 2.509105409,
            "remaining_time": 1.987499267,
            "test": [
             0.4793703635
            ]
           },
           {
            "iteration": 279,
            "learn": [
             0.1501789271
            ],
            "passed_time": 2.5173177,
            "remaining_time": 1.977892479,
            "test": [
             0.4801326928
            ]
           },
           {
            "iteration": 280,
            "learn": [
             0.1494739263
            ],
            "passed_time": 2.525851768,
            "remaining_time": 1.968546396,
            "test": [
             0.4803347661
            ]
           },
           {
            "iteration": 281,
            "learn": [
             0.1490014131
            ],
            "passed_time": 2.53399815,
            "remaining_time": 1.958906371,
            "test": [
             0.4807601259
            ]
           },
           {
            "iteration": 282,
            "learn": [
             0.1487059345
            ],
            "passed_time": 2.542271413,
            "remaining_time": 1.949374193,
            "test": [
             0.4807596941
            ]
           },
           {
            "iteration": 283,
            "learn": [
             0.1483474752
            ],
            "passed_time": 2.55077163,
            "remaining_time": 1.940023493,
            "test": [
             0.4810138229
            ]
           },
           {
            "iteration": 284,
            "learn": [
             0.1481368367
            ],
            "passed_time": 2.558957282,
            "remaining_time": 1.930441458,
            "test": [
             0.4811096045
            ]
           },
           {
            "iteration": 285,
            "learn": [
             0.1474715922
            ],
            "passed_time": 2.567106245,
            "remaining_time": 1.920841736,
            "test": [
             0.4803148426
            ]
           },
           {
            "iteration": 286,
            "learn": [
             0.1467654708
            ],
            "passed_time": 2.575524981,
            "remaining_time": 1.911452338,
            "test": [
             0.481534294
            ]
           },
           {
            "iteration": 287,
            "learn": [
             0.1462689388
            ],
            "passed_time": 2.586915386,
            "remaining_time": 1.904257159,
            "test": [
             0.4822543199
            ]
           },
           {
            "iteration": 288,
            "learn": [
             0.145713796
            ],
            "passed_time": 2.59447071,
            "remaining_time": 1.894232941,
            "test": [
             0.4825706622
            ]
           },
           {
            "iteration": 289,
            "learn": [
             0.1453236579
            ],
            "passed_time": 2.601581893,
            "remaining_time": 1.883904129,
            "test": [
             0.4838590248
            ]
           },
           {
            "iteration": 290,
            "learn": [
             0.1446576494
            ],
            "passed_time": 2.610003023,
            "remaining_time": 1.874538253,
            "test": [
             0.4840000707
            ]
           },
           {
            "iteration": 291,
            "learn": [
             0.1443885426
            ],
            "passed_time": 2.61800102,
            "remaining_time": 1.864877439,
            "test": [
             0.4840587224
            ]
           },
           {
            "iteration": 292,
            "learn": [
             0.1438102977
            ],
            "passed_time": 2.625966142,
            "remaining_time": 1.855204749,
            "test": [
             0.4843647152
            ]
           },
           {
            "iteration": 293,
            "learn": [
             0.1431434336
            ],
            "passed_time": 2.634021099,
            "remaining_time": 1.84560662,
            "test": [
             0.4836162492
            ]
           },
           {
            "iteration": 294,
            "learn": [
             0.1423524925
            ],
            "passed_time": 2.642986975,
            "remaining_time": 1.836651965,
            "test": [
             0.4832113884
            ]
           },
           {
            "iteration": 295,
            "learn": [
             0.1420865333
            ],
            "passed_time": 2.65412403,
            "remaining_time": 1.829193588,
            "test": [
             0.4832669176
            ]
           },
           {
            "iteration": 296,
            "learn": [
             0.1414693366
            ],
            "passed_time": 2.668161729,
            "remaining_time": 1.823693033,
            "test": [
             0.4838360946
            ]
           },
           {
            "iteration": 297,
            "learn": [
             0.1410150261
            ],
            "passed_time": 2.676655994,
            "remaining_time": 1.814377553,
            "test": [
             0.4837740629
            ]
           },
           {
            "iteration": 298,
            "learn": [
             0.1404701814
            ],
            "passed_time": 2.690860506,
            "remaining_time": 1.808906226,
            "test": [
             0.4839535661
            ]
           },
           {
            "iteration": 299,
            "learn": [
             0.140100334
            ],
            "passed_time": 2.704449248,
            "remaining_time": 1.802966165,
            "test": [
             0.4847928222
            ]
           },
           {
            "iteration": 300,
            "learn": [
             0.1396999385
            ],
            "passed_time": 2.711247053,
            "remaining_time": 1.792485593,
            "test": [
             0.4850499274
            ]
           },
           {
            "iteration": 301,
            "learn": [
             0.1393433636
            ],
            "passed_time": 2.725773381,
            "remaining_time": 1.787096455,
            "test": [
             0.4853797261
            ]
           },
           {
            "iteration": 302,
            "learn": [
             0.1387966956
            ],
            "passed_time": 2.731516139,
            "remaining_time": 1.775936236,
            "test": [
             0.4861290837
            ]
           },
           {
            "iteration": 303,
            "learn": [
             0.138114807
            ],
            "passed_time": 2.739835426,
            "remaining_time": 1.766472841,
            "test": [
             0.4859536661
            ]
           },
           {
            "iteration": 304,
            "learn": [
             0.1376261081
            ],
            "passed_time": 2.749084882,
            "remaining_time": 1.757611646,
            "test": [
             0.4863751694
            ]
           },
           {
            "iteration": 305,
            "learn": [
             0.1372309788
            ],
            "passed_time": 2.756398742,
            "remaining_time": 1.747520771,
            "test": [
             0.4863392796
            ]
           },
           {
            "iteration": 306,
            "learn": [
             0.1368724074
            ],
            "passed_time": 2.766582042,
            "remaining_time": 1.739251902,
            "test": [
             0.4864349301
            ]
           },
           {
            "iteration": 307,
            "learn": [
             0.136402125
            ],
            "passed_time": 2.772663993,
            "remaining_time": 1.728413918,
            "test": [
             0.4858390688
            ]
           },
           {
            "iteration": 308,
            "learn": [
             0.1359740844
            ],
            "passed_time": 2.780950595,
            "remaining_time": 1.718969462,
            "test": [
             0.4859972093
            ]
           },
           {
            "iteration": 309,
            "learn": [
             0.1357050082
            ],
            "passed_time": 2.79100003,
            "remaining_time": 1.710612922,
            "test": [
             0.4861164439
            ]
           },
           {
            "iteration": 310,
            "learn": [
             0.1350366569
            ],
            "passed_time": 2.798547803,
            "remaining_time": 1.700725192,
            "test": [
             0.485236366
            ]
           },
           {
            "iteration": 311,
            "learn": [
             0.1345487322
            ],
            "passed_time": 2.816220367,
            "remaining_time": 1.696953298,
            "test": [
             0.4851877012
            ]
           },
           {
            "iteration": 312,
            "learn": [
             0.1343055593
            ],
            "passed_time": 2.820759011,
            "remaining_time": 1.685245799,
            "test": [
             0.4854836619
            ]
           },
           {
            "iteration": 313,
            "learn": [
             0.1338575539
            ],
            "passed_time": 2.829203879,
            "remaining_time": 1.675897839,
            "test": [
             0.4860174601
            ]
           },
           {
            "iteration": 314,
            "learn": [
             0.1333157548
            ],
            "passed_time": 2.837353541,
            "remaining_time": 1.666382238,
            "test": [
             0.4860954133
            ]
           },
           {
            "iteration": 315,
            "learn": [
             0.1330057712
            ],
            "passed_time": 2.845494127,
            "remaining_time": 1.656869998,
            "test": [
             0.486516371
            ]
           },
           {
            "iteration": 316,
            "learn": [
             0.1324728341
            ],
            "passed_time": 2.853713446,
            "remaining_time": 1.647411863,
            "test": [
             0.48602031
            ]
           },
           {
            "iteration": 317,
            "learn": [
             0.1321099234
            ],
            "passed_time": 2.862185427,
            "remaining_time": 1.638106125,
            "test": [
             0.4859905127
            ]
           },
           {
            "iteration": 318,
            "learn": [
             0.1317834281
            ],
            "passed_time": 2.869872884,
            "remaining_time": 1.628360476,
            "test": [
             0.4867004217
            ]
           },
           {
            "iteration": 319,
            "learn": [
             0.1313986072
            ],
            "passed_time": 2.881055335,
            "remaining_time": 1.620593626,
            "test": [
             0.4865031045
            ]
           },
           {
            "iteration": 320,
            "learn": [
             0.1307192243
            ],
            "passed_time": 2.889204111,
            "remaining_time": 1.611113819,
            "test": [
             0.4862899763
            ]
           },
           {
            "iteration": 321,
            "learn": [
             0.1305163986
            ],
            "passed_time": 2.903035912,
            "remaining_time": 1.604783827,
            "test": [
             0.4860722387
            ]
           },
           {
            "iteration": 322,
            "learn": [
             0.1302219488
            ],
            "passed_time": 2.911250693,
            "remaining_time": 1.595329327,
            "test": [
             0.4866984242
            ]
           },
           {
            "iteration": 323,
            "learn": [
             0.1296898163
            ],
            "passed_time": 2.924499159,
            "remaining_time": 1.588616827,
            "test": [
             0.4871061936
            ]
           },
           {
            "iteration": 324,
            "learn": [
             0.1293890308
            ],
            "passed_time": 2.931897418,
            "remaining_time": 1.578713994,
            "test": [
             0.487160649
            ]
           },
           {
            "iteration": 325,
            "learn": [
             0.1287700414
            ],
            "passed_time": 2.942658859,
            "remaining_time": 1.570621599,
            "test": [
             0.4877312062
            ]
           },
           {
            "iteration": 326,
            "learn": [
             0.1280777018
            ],
            "passed_time": 2.955267691,
            "remaining_time": 1.563490246,
            "test": [
             0.4875121816
            ]
           },
           {
            "iteration": 327,
            "learn": [
             0.1276310614
            ],
            "passed_time": 2.966074703,
            "remaining_time": 1.555380637,
            "test": [
             0.4871465547
            ]
           },
           {
            "iteration": 328,
            "learn": [
             0.1271451942
            ],
            "passed_time": 2.980909895,
            "remaining_time": 1.549348304,
            "test": [
             0.4876826755
            ]
           },
           {
            "iteration": 329,
            "learn": [
             0.1266638395
            ],
            "passed_time": 2.986199008,
            "remaining_time": 1.538344943,
            "test": [
             0.4879601868
            ]
           },
           {
            "iteration": 330,
            "learn": [
             0.1262744858
            ],
            "passed_time": 2.994563288,
            "remaining_time": 1.52894621,
            "test": [
             0.4881438586
            ]
           },
           {
            "iteration": 331,
            "learn": [
             0.1254988952
            ],
            "passed_time": 3.002872737,
            "remaining_time": 1.519525963,
            "test": [
             0.4872105183
            ]
           },
           {
            "iteration": 332,
            "learn": [
             0.1250853698
            ],
            "passed_time": 3.011051972,
            "remaining_time": 1.510047085,
            "test": [
             0.487534793
            ]
           },
           {
            "iteration": 333,
            "learn": [
             0.1246860642
            ],
            "passed_time": 3.019426376,
            "remaining_time": 1.500672989,
            "test": [
             0.4874354254
            ]
           },
           {
            "iteration": 334,
            "learn": [
             0.1244720133
            ],
            "passed_time": 3.031602351,
            "remaining_time": 1.493177278,
            "test": [
             0.4871412671
            ]
           },
           {
            "iteration": 335,
            "learn": [
             0.1241271321
            ],
            "passed_time": 3.036744762,
            "remaining_time": 1.482220658,
            "test": [
             0.4873851045
            ]
           },
           {
            "iteration": 336,
            "learn": [
             0.1234047333
            ],
            "passed_time": 3.045278421,
            "remaining_time": 1.472938821,
            "test": [
             0.4881600431
            ]
           },
           {
            "iteration": 337,
            "learn": [
             0.1229522053
            ],
            "passed_time": 3.053100501,
            "remaining_time": 1.463320359,
            "test": [
             0.4889159155
            ]
           },
           {
            "iteration": 338,
            "learn": [
             0.1226051341
            ],
            "passed_time": 3.061238746,
            "remaining_time": 1.453862649,
            "test": [
             0.4885268217
            ]
           },
           {
            "iteration": 339,
            "learn": [
             0.1223715768
            ],
            "passed_time": 3.071592688,
            "remaining_time": 1.445455383,
            "test": [
             0.4884595875
            ]
           },
           {
            "iteration": 340,
            "learn": [
             0.1219295812
            ],
            "passed_time": 3.079617352,
            "remaining_time": 1.435950613,
            "test": [
             0.488957212
            ]
           },
           {
            "iteration": 341,
            "learn": [
             0.1215557817
            ],
            "passed_time": 3.090555031,
            "remaining_time": 1.427800278,
            "test": [
             0.4888956337
            ]
           },
           {
            "iteration": 342,
            "learn": [
             0.1210236696
            ],
            "passed_time": 3.097021717,
            "remaining_time": 1.4175872,
            "test": [
             0.4889363011
            ]
           },
           {
            "iteration": 343,
            "learn": [
             0.1207311857
            ],
            "passed_time": 3.104861807,
            "remaining_time": 1.408018727,
            "test": [
             0.489302059
            ]
           },
           {
            "iteration": 344,
            "learn": [
             0.1204115762
            ],
            "passed_time": 3.112739929,
            "remaining_time": 1.398477359,
            "test": [
             0.489740137
            ]
           },
           {
            "iteration": 345,
            "learn": [
             0.1198176039
            ],
            "passed_time": 3.120599467,
            "remaining_time": 1.388937335,
            "test": [
             0.4893858383
            ]
           },
           {
            "iteration": 346,
            "learn": [
             0.1195513085
            ],
            "passed_time": 3.128939155,
            "remaining_time": 1.379618705,
            "test": [
             0.4896021221
            ]
           },
           {
            "iteration": 347,
            "learn": [
             0.1192296618
            ],
            "passed_time": 3.137516817,
            "remaining_time": 1.370409644,
            "test": [
             0.4900699284
            ]
           },
           {
            "iteration": 348,
            "learn": [
             0.1187590942
            ],
            "passed_time": 3.14716175,
            "remaining_time": 1.361665972,
            "test": [
             0.4902296322
            ]
           },
           {
            "iteration": 349,
            "learn": [
             0.1182113057
            ],
            "passed_time": 3.154195888,
            "remaining_time": 1.351798238,
            "test": [
             0.4908163266
            ]
           },
           {
            "iteration": 350,
            "learn": [
             0.1179466197
            ],
            "passed_time": 3.162693027,
            "remaining_time": 1.342567695,
            "test": [
             0.4907375645
            ]
           },
           {
            "iteration": 351,
            "learn": [
             0.1175426692
            ],
            "passed_time": 3.17054555,
            "remaining_time": 1.333070288,
            "test": [
             0.4915471118
            ]
           },
           {
            "iteration": 352,
            "learn": [
             0.1170003303
            ],
            "passed_time": 3.177885602,
            "remaining_time": 1.323368792,
            "test": [
             0.4919343292
            ]
           },
           {
            "iteration": 353,
            "learn": [
             0.1166732034
            ],
            "passed_time": 3.187162673,
            "remaining_time": 1.314479521,
            "test": [
             0.4923566759
            ]
           },
           {
            "iteration": 354,
            "learn": [
             0.1163504261
            ],
            "passed_time": 3.191851528,
            "remaining_time": 1.303714004,
            "test": [
             0.4925163041
            ]
           },
           {
            "iteration": 355,
            "learn": [
             0.1159899805
            ],
            "passed_time": 3.212105054,
            "remaining_time": 1.299278449,
            "test": [
             0.4931205932
            ]
           },
           {
            "iteration": 356,
            "learn": [
             0.1156851816
            ],
            "passed_time": 3.216967122,
            "remaining_time": 1.288589071,
            "test": [
             0.4930383848
            ]
           },
           {
            "iteration": 357,
            "learn": [
             0.1154596713
            ],
            "passed_time": 3.221032748,
            "remaining_time": 1.277616341,
            "test": [
             0.4931638529
            ]
           },
           {
            "iteration": 358,
            "learn": [
             0.1147722211
            ],
            "passed_time": 3.230210896,
            "remaining_time": 1.268690073,
            "test": [
             0.4935700852
            ]
           },
           {
            "iteration": 359,
            "learn": [
             0.1144357332
            ],
            "passed_time": 3.233142463,
            "remaining_time": 1.25733318,
            "test": [
             0.4939350351
            ]
           },
           {
            "iteration": 360,
            "learn": [
             0.1141673701
            ],
            "passed_time": 3.240470168,
            "remaining_time": 1.24771566,
            "test": [
             0.4939783521
            ]
           },
           {
            "iteration": 361,
            "learn": [
             0.1137690627
            ],
            "passed_time": 3.243562375,
            "remaining_time": 1.236496154,
            "test": [
             0.4946643737
            ]
           },
           {
            "iteration": 362,
            "learn": [
             0.1135404151
            ],
            "passed_time": 3.252253718,
            "remaining_time": 1.227434599,
            "test": [
             0.4945632232
            ]
           },
           {
            "iteration": 363,
            "learn": [
             0.1131717901
            ],
            "passed_time": 3.255115677,
            "remaining_time": 1.216197066,
            "test": [
             0.4947828706
            ]
           },
           {
            "iteration": 364,
            "learn": [
             0.112753467
            ],
            "passed_time": 3.267549893,
            "remaining_time": 1.208545851,
            "test": [
             0.4948563162
            ]
           },
           {
            "iteration": 365,
            "learn": [
             0.1121671954
            ],
            "passed_time": 3.283501069,
            "remaining_time": 1.202156129,
            "test": [
             0.4951792015
            ]
           },
           {
            "iteration": 366,
            "learn": [
             0.111851477
            ],
            "passed_time": 3.288275159,
            "remaining_time": 1.19166375,
            "test": [
             0.4946747351
            ]
           },
           {
            "iteration": 367,
            "learn": [
             0.1115531463
            ],
            "passed_time": 3.299723315,
            "remaining_time": 1.183596406,
            "test": [
             0.4944872948
            ]
           },
           {
            "iteration": 368,
            "learn": [
             0.1108309105
            ],
            "passed_time": 3.316338716,
            "remaining_time": 1.177345181,
            "test": [
             0.4946178847
            ]
           },
           {
            "iteration": 369,
            "learn": [
             0.110302547
            ],
            "passed_time": 3.328254391,
            "remaining_time": 1.169386678,
            "test": [
             0.4946505427
            ]
           },
           {
            "iteration": 370,
            "learn": [
             0.109999225
            ],
            "passed_time": 3.351099112,
            "remaining_time": 1.165206969,
            "test": [
             0.494920333
            ]
           },
           {
            "iteration": 371,
            "learn": [
             0.1097418527
            ],
            "passed_time": 3.358861493,
            "remaining_time": 1.155737288,
            "test": [
             0.4952928726
            ]
           },
           {
            "iteration": 372,
            "learn": [
             0.109394537
            ],
            "passed_time": 3.371154911,
            "remaining_time": 1.147819501,
            "test": [
             0.4954909146
            ]
           },
           {
            "iteration": 373,
            "learn": [
             0.1090867739
            ],
            "passed_time": 3.390373401,
            "remaining_time": 1.14221136,
            "test": [
             0.495157496
            ]
           },
           {
            "iteration": 374,
            "learn": [
             0.1088421851
            ],
            "passed_time": 3.40901131,
            "remaining_time": 1.136337103,
            "test": [
             0.4955495183
            ]
           },
           {
            "iteration": 375,
            "learn": [
             0.1086381166
            ],
            "passed_time": 3.413818599,
            "remaining_time": 1.125833793,
            "test": [
             0.4961122311
            ]
           },
           {
            "iteration": 376,
            "learn": [
             0.1080378697
            ],
            "passed_time": 3.422525121,
            "remaining_time": 1.116632865,
            "test": [
             0.4957543386
            ]
           },
           {
            "iteration": 377,
            "learn": [
             0.1074883394
            ],
            "passed_time": 3.430597189,
            "remaining_time": 1.10722978,
            "test": [
             0.4962631575
            ]
           },
           {
            "iteration": 378,
            "learn": [
             0.107110995
            ],
            "passed_time": 3.442028118,
            "remaining_time": 1.098906075,
            "test": [
             0.4967642289
            ]
           },
           {
            "iteration": 379,
            "learn": [
             0.106658742
            ],
            "passed_time": 3.447575751,
            "remaining_time": 1.088708132,
            "test": [
             0.4966936362
            ]
           },
           {
            "iteration": 380,
            "learn": [
             0.106399638
            ],
            "passed_time": 3.456212994,
            "remaining_time": 1.079499597,
            "test": [
             0.4978035198
            ]
           },
           {
            "iteration": 381,
            "learn": [
             0.1061525434
            ],
            "passed_time": 3.464238566,
            "remaining_time": 1.070105107,
            "test": [
             0.4975104302
            ]
           },
           {
            "iteration": 382,
            "learn": [
             0.1056235788
            ],
            "passed_time": 3.475481492,
            "remaining_time": 1.061700612,
            "test": [
             0.4978521127
            ]
           },
           {
            "iteration": 383,
            "learn": [
             0.105158196
            ],
            "passed_time": 3.481665759,
            "remaining_time": 1.051753198,
            "test": [
             0.4980522228
            ]
           },
           {
            "iteration": 384,
            "learn": [
             0.1048375067
            ],
            "passed_time": 3.487723035,
            "remaining_time": 1.0417874,
            "test": [
             0.4985786113
            ]
           },
           {
            "iteration": 385,
            "learn": [
             0.1044583187
            ],
            "passed_time": 3.496119219,
            "remaining_time": 1.032532619,
            "test": [
             0.4993761287
            ]
           },
           {
            "iteration": 386,
            "learn": [
             0.104313625
            ],
            "passed_time": 3.504069004,
            "remaining_time": 1.023151932,
            "test": [
             0.4995327774
            ]
           },
           {
            "iteration": 387,
            "learn": [
             0.1039455093
            ],
            "passed_time": 3.512070907,
            "remaining_time": 1.013793664,
            "test": [
             0.4988644767
            ]
           },
           {
            "iteration": 388,
            "learn": [
             0.1036913455
            ],
            "passed_time": 3.520155908,
            "remaining_time": 1.004466082,
            "test": [
             0.4991269486
            ]
           },
           {
            "iteration": 389,
            "learn": [
             0.1033833788
            ],
            "passed_time": 3.528144555,
            "remaining_time": 0.9951176951,
            "test": [
             0.4994590779
            ]
           },
           {
            "iteration": 390,
            "learn": [
             0.1031714874
            ],
            "passed_time": 3.536061624,
            "remaining_time": 0.9857563094,
            "test": [
             0.4993396358
            ]
           },
           {
            "iteration": 391,
            "learn": [
             0.1029496747
            ],
            "passed_time": 3.544059218,
            "remaining_time": 0.9764244784,
            "test": [
             0.499671558
            ]
           },
           {
            "iteration": 392,
            "learn": [
             0.1027071129
            ],
            "passed_time": 3.55483182,
            "remaining_time": 0.9678549738,
            "test": [
             0.4996790982
            ]
           },
           {
            "iteration": 393,
            "learn": [
             0.1024754299
            ],
            "passed_time": 3.561266342,
            "remaining_time": 0.9581071885,
            "test": [
             0.4998573369
            ]
           },
           {
            "iteration": 394,
            "learn": [
             0.1020088756
            ],
            "passed_time": 3.570569336,
            "remaining_time": 0.9491386843,
            "test": [
             0.5000472127
            ]
           },
           {
            "iteration": 395,
            "learn": [
             0.1016895411
            ],
            "passed_time": 3.578132641,
            "remaining_time": 0.9397116026,
            "test": [
             0.500277257
            ]
           },
           {
            "iteration": 396,
            "learn": [
             0.1012046417
            ],
            "passed_time": 3.593162402,
            "remaining_time": 0.9322310514,
            "test": [
             0.5009637517
            ]
           },
           {
            "iteration": 397,
            "learn": [
             0.1008517134
            ],
            "passed_time": 3.59954499,
            "remaining_time": 0.9224964546,
            "test": [
             0.5011149679
            ]
           },
           {
            "iteration": 398,
            "learn": [
             0.1006229742
            ],
            "passed_time": 3.607770681,
            "remaining_time": 0.91324521,
            "test": [
             0.5009833853
            ]
           },
           {
            "iteration": 399,
            "learn": [
             0.1003179206
            ],
            "passed_time": 3.625869127,
            "remaining_time": 0.9064672818,
            "test": [
             0.5004942011
            ]
           },
           {
            "iteration": 400,
            "learn": [
             0.09976978582
            ],
            "passed_time": 3.635699466,
            "remaining_time": 0.8975916388,
            "test": [
             0.5004828915
            ]
           },
           {
            "iteration": 401,
            "learn": [
             0.09929490949
            ],
            "passed_time": 3.642849076,
            "remaining_time": 0.8880577348,
            "test": [
             0.5009287948
            ]
           },
           {
            "iteration": 402,
            "learn": [
             0.09899631393
            ],
            "passed_time": 3.657826161,
            "remaining_time": 0.8804196964,
            "test": [
             0.5011797258
            ]
           },
           {
            "iteration": 403,
            "learn": [
             0.0987471923
            ],
            "passed_time": 3.665229142,
            "remaining_time": 0.8709455387,
            "test": [
             0.5013670638
            ]
           },
           {
            "iteration": 404,
            "learn": [
             0.09855291267
            ],
            "passed_time": 3.672784365,
            "remaining_time": 0.8615173203,
            "test": [
             0.50158302
            ]
           },
           {
            "iteration": 405,
            "learn": [
             0.0983467866
            ],
            "passed_time": 3.680830933,
            "remaining_time": 0.852212088,
            "test": [
             0.5016454976
            ]
           },
           {
            "iteration": 406,
            "learn": [
             0.09799309439
            ],
            "passed_time": 3.689530828,
            "remaining_time": 0.8430623267,
            "test": [
             0.5019384756
            ]
           },
           {
            "iteration": 407,
            "learn": [
             0.09772527106
            ],
            "passed_time": 3.69972332,
            "remaining_time": 0.8342513369,
            "test": [
             0.5025864649
            ]
           },
           {
            "iteration": 408,
            "learn": [
             0.09734118351
            ],
            "passed_time": 3.706529364,
            "remaining_time": 0.8246801275,
            "test": [
             0.5032037322
            ]
           },
           {
            "iteration": 409,
            "learn": [
             0.0971090523
            ],
            "passed_time": 3.714741473,
            "remaining_time": 0.8154310551,
            "test": [
             0.5034391719
            ]
           },
           {
            "iteration": 410,
            "learn": [
             0.09693561345
            ],
            "passed_time": 3.723252931,
            "remaining_time": 0.8062518512,
            "test": [
             0.5030411327
            ]
           },
           {
            "iteration": 411,
            "learn": [
             0.09669647421
            ],
            "passed_time": 3.731696273,
            "remaining_time": 0.7970613399,
            "test": [
             0.5034435496
            ]
           },
           {
            "iteration": 412,
            "learn": [
             0.09649636812
            ],
            "passed_time": 3.739722077,
            "remaining_time": 0.7877864907,
            "test": [
             0.5037313289
            ]
           },
           {
            "iteration": 413,
            "learn": [
             0.09631598234
            ],
            "passed_time": 3.756750133,
            "remaining_time": 0.7803877089,
            "test": [
             0.5040855679
            ]
           },
           {
            "iteration": 414,
            "learn": [
             0.09601280304
            ],
            "passed_time": 3.764119733,
            "remaining_time": 0.7709642826,
            "test": [
             0.5036776002
            ]
           },
           {
            "iteration": 415,
            "learn": [
             0.09570518259
            ],
            "passed_time": 3.768503758,
            "remaining_time": 0.7609478742,
            "test": [
             0.5035917107
            ]
           },
           {
            "iteration": 416,
            "learn": [
             0.09538275155
            ],
            "passed_time": 3.771933245,
            "remaining_time": 0.7507684875,
            "test": [
             0.5036501416
            ]
           },
           {
            "iteration": 417,
            "learn": [
             0.09504159843
            ],
            "passed_time": 3.775356845,
            "remaining_time": 0.7406202424,
            "test": [
             0.5037384956
            ]
           },
           {
            "iteration": 418,
            "learn": [
             0.09469272425
            ],
            "passed_time": 3.783603313,
            "remaining_time": 0.73143644,
            "test": [
             0.5041204683
            ]
           },
           {
            "iteration": 419,
            "learn": [
             0.09442193677
            ],
            "passed_time": 3.786925887,
            "remaining_time": 0.7213192167,
            "test": [
             0.503675004
            ]
           },
           {
            "iteration": 420,
            "learn": [
             0.09421790903
            ],
            "passed_time": 3.794770274,
            "remaining_time": 0.712082783,
            "test": [
             0.5044859703
            ]
           },
           {
            "iteration": 421,
            "learn": [
             0.09397853551
            ],
            "passed_time": 3.80218419,
            "remaining_time": 0.702773381,
            "test": [
             0.5044032444
            ]
           },
           {
            "iteration": 422,
            "learn": [
             0.0938103425
            ],
            "passed_time": 3.805269074,
            "remaining_time": 0.6926849142,
            "test": [
             0.5042877546
            ]
           },
           {
            "iteration": 423,
            "learn": [
             0.09349848463
            ],
            "passed_time": 3.810407672,
            "remaining_time": 0.6829976015,
            "test": [
             0.5043294894
            ]
           },
           {
            "iteration": 424,
            "learn": [
             0.09308083385
            ],
            "passed_time": 3.813611477,
            "remaining_time": 0.6729902606,
            "test": [
             0.5049296758
            ]
           },
           {
            "iteration": 425,
            "learn": [
             0.09282863602
            ],
            "passed_time": 3.822106199,
            "remaining_time": 0.6639339407,
            "test": [
             0.5049064904
            ]
           },
           {
            "iteration": 426,
            "learn": [
             0.09265595094
            ],
            "passed_time": 3.825373384,
            "remaining_time": 0.6539865505,
            "test": [
             0.5054946272
            ]
           },
           {
            "iteration": 427,
            "learn": [
             0.09235949446
            ],
            "passed_time": 3.829439385,
            "remaining_time": 0.6442047564,
            "test": [
             0.5057106705
            ]
           },
           {
            "iteration": 428,
            "learn": [
             0.09200210469
            ],
            "passed_time": 3.837641505,
            "remaining_time": 0.6351341419,
            "test": [
             0.5056895723
            ]
           },
           {
            "iteration": 429,
            "learn": [
             0.09165312865
            ],
            "passed_time": 3.840707968,
            "remaining_time": 0.6252315297,
            "test": [
             0.5065917232
            ]
           },
           {
            "iteration": 430,
            "learn": [
             0.09136469883
            ],
            "passed_time": 3.854102716,
            "remaining_time": 0.6170141239,
            "test": [
             0.506650878
            ]
           },
           {
            "iteration": 431,
            "learn": [
             0.09107483277
            ],
            "passed_time": 3.872031281,
            "remaining_time": 0.6094864053,
            "test": [
             0.5067196104
            ]
           },
           {
            "iteration": 432,
            "learn": [
             0.09091608228
            ],
            "passed_time": 3.878642571,
            "remaining_time": 0.600159474,
            "test": [
             0.5073386346
            ]
           },
           {
            "iteration": 433,
            "learn": [
             0.09060100561
            ],
            "passed_time": 3.89635241,
            "remaining_time": 0.592532855,
            "test": [
             0.5074487298
            ]
           },
           {
            "iteration": 434,
            "learn": [
             0.09044137911
            ],
            "passed_time": 3.903030925,
            "remaining_time": 0.5832115176,
            "test": [
             0.5074741557
            ]
           },
           {
            "iteration": 435,
            "learn": [
             0.09021679582
            ],
            "passed_time": 3.91322167,
            "remaining_time": 0.5744178598,
            "test": [
             0.5075438371
            ]
           },
           {
            "iteration": 436,
            "learn": [
             0.08983019229
            ],
            "passed_time": 3.919413631,
            "remaining_time": 0.5650413244,
            "test": [
             0.5074114316
            ]
           },
           {
            "iteration": 437,
            "learn": [
             0.08941697247
            ],
            "passed_time": 3.934099845,
            "remaining_time": 0.5568817132,
            "test": [
             0.5072469153
            ]
           },
           {
            "iteration": 438,
            "learn": [
             0.08900064588
            ],
            "passed_time": 3.941824541,
            "remaining_time": 0.5477250501,
            "test": [
             0.5075642275
            ]
           },
           {
            "iteration": 439,
            "learn": [
             0.08858148756
            ],
            "passed_time": 3.95640308,
            "remaining_time": 0.5395095109,
            "test": [
             0.5077824882
            ]
           },
           {
            "iteration": 440,
            "learn": [
             0.08843710967
            ],
            "passed_time": 3.963788737,
            "remaining_time": 0.5303028015,
            "test": [
             0.508061016
            ]
           },
           {
            "iteration": 441,
            "learn": [
             0.08822281434
            ],
            "passed_time": 3.969193433,
            "remaining_time": 0.5208443871,
            "test": [
             0.5087408312
            ]
           },
           {
            "iteration": 442,
            "learn": [
             0.08797172679
            ],
            "passed_time": 3.986501686,
            "remaining_time": 0.5129358829,
            "test": [
             0.5084246437
            ]
           },
           {
            "iteration": 443,
            "learn": [
             0.08756650306
            ],
            "passed_time": 3.993112936,
            "remaining_time": 0.5036358658,
            "test": [
             0.5082194247
            ]
           },
           {
            "iteration": 444,
            "learn": [
             0.08724912432
            ],
            "passed_time": 4.008143399,
            "remaining_time": 0.49538851,
            "test": [
             0.5085776271
            ]
           },
           {
            "iteration": 445,
            "learn": [
             0.0869439078
            ],
            "passed_time": 4.023352823,
            "remaining_time": 0.4871324046,
            "test": [
             0.5086698997
            ]
           },
           {
            "iteration": 446,
            "learn": [
             0.08678396553
            ],
            "passed_time": 4.029135201,
            "remaining_time": 0.47772744,
            "test": [
             0.5085760083
            ]
           },
           {
            "iteration": 447,
            "learn": [
             0.08655592915
            ],
            "passed_time": 4.045559312,
            "remaining_time": 0.4695738487,
            "test": [
             0.5085358432
            ]
           },
           {
            "iteration": 448,
            "learn": [
             0.08640659062
            ],
            "passed_time": 4.052469666,
            "remaining_time": 0.4603027906,
            "test": [
             0.5086435201
            ]
           },
           {
            "iteration": 449,
            "learn": [
             0.0861762318
            ],
            "passed_time": 4.063868729,
            "remaining_time": 0.4515409699,
            "test": [
             0.5088375
            ]
           },
           {
            "iteration": 450,
            "learn": [
             0.08595009003
            ],
            "passed_time": 4.069609855,
            "remaining_time": 0.4421527337,
            "test": [
             0.5090567745
            ]
           },
           {
            "iteration": 451,
            "learn": [
             0.08572275648
            ],
            "passed_time": 4.089587442,
            "remaining_time": 0.4342924717,
            "test": [
             0.5094736754
            ]
           },
           {
            "iteration": 452,
            "learn": [
             0.08545531004
            ],
            "passed_time": 4.092910253,
            "remaining_time": 0.4246507327,
            "test": [
             0.5097079558
            ]
           },
           {
            "iteration": 453,
            "learn": [
             0.08505262265
            ],
            "passed_time": 4.097431626,
            "remaining_time": 0.4151582705,
            "test": [
             0.5102358536
            ]
           },
           {
            "iteration": 454,
            "learn": [
             0.08477541283
            ],
            "passed_time": 4.104589521,
            "remaining_time": 0.4059484141,
            "test": [
             0.5105952852
            ]
           },
           {
            "iteration": 455,
            "learn": [
             0.08452866966
            ],
            "passed_time": 4.107579304,
            "remaining_time": 0.3963453714,
            "test": [
             0.5109412394
            ]
           },
           {
            "iteration": 456,
            "learn": [
             0.08413955016
            ],
            "passed_time": 4.112162769,
            "remaining_time": 0.3869212234,
            "test": [
             0.5114040249
            ]
           },
           {
            "iteration": 457,
            "learn": [
             0.08397181553
            ],
            "passed_time": 4.128159816,
            "remaining_time": 0.378564874,
            "test": [
             0.5117557517
            ]
           },
           {
            "iteration": 458,
            "learn": [
             0.08371967881
            ],
            "passed_time": 4.134601008,
            "remaining_time": 0.3693216587,
            "test": [
             0.5116376668
            ]
           },
           {
            "iteration": 459,
            "learn": [
             0.08340429655
            ],
            "passed_time": 4.148293262,
            "remaining_time": 0.3607211532,
            "test": [
             0.5117212181
            ]
           },
           {
            "iteration": 460,
            "learn": [
             0.08321799264
            ],
            "passed_time": 4.164133758,
            "remaining_time": 0.3522802962,
            "test": [
             0.5119787912
            ]
           },
           {
            "iteration": 461,
            "learn": [
             0.08303641509
            ],
            "passed_time": 4.172210243,
            "remaining_time": 0.3431688079,
            "test": [
             0.5120863496
            ]
           },
           {
            "iteration": 462,
            "learn": [
             0.08287102836
            ],
            "passed_time": 4.177940627,
            "remaining_time": 0.3338743049,
            "test": [
             0.512265042
            ]
           },
           {
            "iteration": 463,
            "learn": [
             0.08271503321
            ],
            "passed_time": 4.182333137,
            "remaining_time": 0.3244913641,
            "test": [
             0.5123741953
            ]
           },
           {
            "iteration": 464,
            "learn": [
             0.08255723003
            ],
            "passed_time": 4.219991923,
            "remaining_time": 0.3176338006,
            "test": [
             0.5123721621
            ]
           },
           {
            "iteration": 465,
            "learn": [
             0.08225549716
            ],
            "passed_time": 4.227684798,
            "remaining_time": 0.3084576891,
            "test": [
             0.5119703902
            ]
           },
           {
            "iteration": 466,
            "learn": [
             0.08187835653
            ],
            "passed_time": 4.231558695,
            "remaining_time": 0.2990180662,
            "test": [
             0.5124275736
            ]
           },
           {
            "iteration": 467,
            "learn": [
             0.08172162798
            ],
            "passed_time": 4.235496874,
            "remaining_time": 0.2896066239,
            "test": [
             0.5126328331
            ]
           },
           {
            "iteration": 468,
            "learn": [
             0.0815536387
            ],
            "passed_time": 4.238775697,
            "remaining_time": 0.2801749395,
            "test": [
             0.5124984267
            ]
           },
           {
            "iteration": 469,
            "learn": [
             0.0813748063
            ],
            "passed_time": 4.243353271,
            "remaining_time": 0.2708523365,
            "test": [
             0.5126056948
            ]
           },
           {
            "iteration": 470,
            "learn": [
             0.08121865837
            ],
            "passed_time": 4.24624758,
            "remaining_time": 0.2614462417,
            "test": [
             0.5130070417
            ]
           },
           {
            "iteration": 471,
            "learn": [
             0.08084553106
            ],
            "passed_time": 4.249655129,
            "remaining_time": 0.2520981856,
            "test": [
             0.5138856373
            ]
           },
           {
            "iteration": 472,
            "learn": [
             0.08056359488
            ],
            "passed_time": 4.273789972,
            "remaining_time": 0.2439584128,
            "test": [
             0.5140116762
            ]
           },
           {
            "iteration": 473,
            "learn": [
             0.08018673946
            ],
            "passed_time": 4.276917533,
            "remaining_time": 0.234598852,
            "test": [
             0.5145313987
            ]
           },
           {
            "iteration": 474,
            "learn": [
             0.07987302773
            ],
            "passed_time": 4.290759151,
            "remaining_time": 0.225829429,
            "test": [
             0.5147433048
            ]
           },
           {
            "iteration": 475,
            "learn": [
             0.07953959059
            ],
            "passed_time": 4.294300432,
            "remaining_time": 0.2165193495,
            "test": [
             0.5143599057
            ]
           },
           {
            "iteration": 476,
            "learn": [
             0.07922838463
            ],
            "passed_time": 4.309462691,
            "remaining_time": 0.2077937985,
            "test": [
             0.5146331683
            ]
           },
           {
            "iteration": 477,
            "learn": [
             0.07892719162
            ],
            "passed_time": 4.314819302,
            "remaining_time": 0.1985900097,
            "test": [
             0.5149288444
            ]
           },
           {
            "iteration": 478,
            "learn": [
             0.07869269724
            ],
            "passed_time": 4.317889482,
            "remaining_time": 0.1893020441,
            "test": [
             0.514369948
            ]
           },
           {
            "iteration": 479,
            "learn": [
             0.07839087778
            ],
            "passed_time": 4.322145886,
            "remaining_time": 0.1800894119,
            "test": [
             0.5147927157
            ]
           },
           {
            "iteration": 480,
            "learn": [
             0.07818628981
            ],
            "passed_time": 4.325512697,
            "remaining_time": 0.1708622479,
            "test": [
             0.5148389293
            ]
           },
           {
            "iteration": 481,
            "learn": [
             0.07799841724
            ],
            "passed_time": 4.333071844,
            "remaining_time": 0.161815961,
            "test": [
             0.5144210039
            ]
           },
           {
            "iteration": 482,
            "learn": [
             0.07784809067
            ],
            "passed_time": 4.342060048,
            "remaining_time": 0.1528261301,
            "test": [
             0.5149729459
            ]
           },
           {
            "iteration": 483,
            "learn": [
             0.07759948853
            ],
            "passed_time": 4.345337182,
            "remaining_time": 0.1436475101,
            "test": [
             0.5157724079
            ]
           },
           {
            "iteration": 484,
            "learn": [
             0.07743024635
            ],
            "passed_time": 4.349981369,
            "remaining_time": 0.1345355063,
            "test": [
             0.5160754741
            ]
           },
           {
            "iteration": 485,
            "learn": [
             0.07726102964
            ],
            "passed_time": 4.353370953,
            "remaining_time": 0.1254057476,
            "test": [
             0.516149169
            ]
           },
           {
            "iteration": 486,
            "learn": [
             0.07682952066
            ],
            "passed_time": 4.366383735,
            "remaining_time": 0.1165564447,
            "test": [
             0.5161680225
            ]
           },
           {
            "iteration": 487,
            "learn": [
             0.07647844628
            ],
            "passed_time": 4.369614684,
            "remaining_time": 0.1074495414,
            "test": [
             0.5165849508
            ]
           },
           {
            "iteration": 488,
            "learn": [
             0.07618458726
            ],
            "passed_time": 4.37386855,
            "remaining_time": 0.09838968108,
            "test": [
             0.5170484943
            ]
           },
           {
            "iteration": 489,
            "learn": [
             0.0760983364
            ],
            "passed_time": 4.376934958,
            "remaining_time": 0.08932520323,
            "test": [
             0.5169670631
            ]
           },
           {
            "iteration": 490,
            "learn": [
             0.07589920818
            ],
            "passed_time": 4.380693592,
            "remaining_time": 0.08029784588,
            "test": [
             0.516506213
            ]
           },
           {
            "iteration": 491,
            "learn": [
             0.07564996941
            ],
            "passed_time": 4.384006705,
            "remaining_time": 0.07128466186,
            "test": [
             0.5165911882
            ]
           },
           {
            "iteration": 492,
            "learn": [
             0.07551566558
            ],
            "passed_time": 4.388389062,
            "remaining_time": 0.06230978384,
            "test": [
             0.5166728958
            ]
           },
           {
            "iteration": 493,
            "learn": [
             0.0752825667
            ],
            "passed_time": 4.391369835,
            "remaining_time": 0.05333647572,
            "test": [
             0.516672835
            ]
           },
           {
            "iteration": 494,
            "learn": [
             0.07498041619
            ],
            "passed_time": 4.395097659,
            "remaining_time": 0.04439492585,
            "test": [
             0.5166354217
            ]
           },
           {
            "iteration": 495,
            "learn": [
             0.07481911918
            ],
            "passed_time": 4.421411384,
            "remaining_time": 0.03565654342,
            "test": [
             0.516753832
            ]
           },
           {
            "iteration": 496,
            "learn": [
             0.07464624056
            ],
            "passed_time": 4.429811973,
            "remaining_time": 0.02673930769,
            "test": [
             0.51675894
            ]
           },
           {
            "iteration": 497,
            "learn": [
             0.07448771417
            ],
            "passed_time": 4.432970084,
            "remaining_time": 0.01780309271,
            "test": [
             0.5167458102
            ]
           },
           {
            "iteration": 498,
            "learn": [
             0.07435606892
            ],
            "passed_time": 4.446738989,
            "remaining_time": 0.008911300579,
            "test": [
             0.5169376431
            ]
           },
           {
            "iteration": 499,
            "learn": [
             0.07422943013
            ],
            "passed_time": 4.453094203,
            "remaining_time": 0,
            "test": [
             0.5169763832
            ]
           }
          ],
          "meta": {
           "iteration_count": 500,
           "launch_mode": "Train",
           "learn_metrics": [
            {
             "best_value": "Min",
             "name": "Logloss"
            }
           ],
           "learn_sets": [
            "learn"
           ],
           "name": "experiment",
           "parameters": "",
           "test_metrics": [
            {
             "best_value": "Min",
             "name": "Logloss"
            }
           ],
           "test_sets": [
            "test"
           ]
          }
         },
         "passed_iterations": 499,
         "total_iterations": 500
        },
        "name": "catboost_info",
        "path": "catboost_info"
       }
      },
      "layout": "IPY_MODEL_0788362261e44202b505aa3ffa771013"
     }
    }
   }
  }
 },
 "nbformat": 4,
 "nbformat_minor": 5
}
